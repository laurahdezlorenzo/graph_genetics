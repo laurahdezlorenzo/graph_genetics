{
 "cells": [
  {
   "cell_type": "code",
   "execution_count": null,
   "id": "6a5550b6",
   "metadata": {},
   "outputs": [],
   "source": [
    "from scipy.stats import ttest_ind\n",
    "import numpy as np\n",
    "from scipy import stats\n",
    "import pandas as pd\n",
    "import matplotlib.pyplot as plt"
   ]
  },
  {
   "cell_type": "code",
   "execution_count": null,
   "id": "38c798e9",
   "metadata": {},
   "outputs": [],
   "source": [
    "mean_ad_ppi_pet = 0.7124\n",
    "mean_nd_ppi_pet = 0.6738\n",
    "mean_ad_ppi_petdx = 0.6738\n",
    "mean_nd_ppi_petdx = 0.6738\n",
    "                     \n",
    "ad_ppi_pet = [0.6898, 0.7180, 0.7294]\n",
    "nd_ppi_pet = [0.7050, 0.6349, 0.7143]\n",
    "ad_ppi_petdx = [0.6825, 0.7302, 0.7143]\n",
    "nd_ppi_petdx = [0.7937, 0.8532, 0.6389]"
   ]
  },
  {
   "cell_type": "code",
   "execution_count": null,
   "id": "senior-dispute",
   "metadata": {},
   "outputs": [],
   "source": [
    "def compute_pvalues(original_runs, original_mean, data):\n",
    "    \n",
    "    data.drop(columns=['epoch'], inplace=True)\n",
    "    \n",
    "    data['mean'] = data.mean(axis=1)\n",
    "\n",
    "    all_list = data.values.tolist()\n",
    "    all_runs = [item for sublist in all_list for item in sublist]\n",
    "    \n",
    "    pval1 = stats.ttest_1samp(all_runs, original_runs[0], alternative='less')[1]\n",
    "    pval2 = stats.ttest_1samp(all_runs, original_runs[1], alternative='less')[1]\n",
    "    pval3 = stats.ttest_1samp(all_runs, original_runs[2], alternative='less')[1]\n",
    "    \n",
    "    return pval1, pval2, pval3\n",
    "    "
   ]
  },
  {
   "cell_type": "markdown",
   "id": "b185bf88",
   "metadata": {},
   "source": [
    "### Original runs vs. \"Shuffled\" random runs"
   ]
  },
  {
   "cell_type": "code",
   "execution_count": null,
   "id": "33d15e63",
   "metadata": {},
   "outputs": [],
   "source": [
    "infile = 'results/PET_AD_PPI_SHUFFLED_runs.csv'\n",
    "data = pd.read_csv(infile, index_col='random')\n",
    "\n",
    "pval1, pval2, pval3 = compute_pvalues(ad_ppi_pet, mean_ad_ppi_pet, data)\n",
    "\n",
    "print(pval1)\n",
    "print(pval2)\n",
    "print(pval3)"
   ]
  },
  {
   "cell_type": "code",
   "execution_count": null,
   "id": "0052c01f",
   "metadata": {},
   "outputs": [],
   "source": [
    "infile = 'results/PET_ND_PPI_SHUFFLED_runs.csv'\n",
    "data = pd.read_csv(infile, index_col='random')\n",
    "\n",
    "pval1, pval2, pval3 = compute_pvalues(nd_ppi_pet, mean_nd_ppi_pet, data)\n",
    "\n",
    "print(pval1)\n",
    "print(pval2)\n",
    "print(pval3)"
   ]
  },
  {
   "cell_type": "code",
   "execution_count": null,
   "id": "7572048d",
   "metadata": {},
   "outputs": [],
   "source": [
    "infile = 'results/PETandDX_AD_PPI_SHUFFLED_runs.csv'\n",
    "data = pd.read_csv(infile, index_col='random')\n",
    "\n",
    "pval1, pval2, pval3 = compute_pvalues(ad_ppi_petdx, mean_ad_ppi_petdx, data)\n",
    "\n",
    "print(pval1)\n",
    "print(pval2)\n",
    "print(pval3)"
   ]
  },
  {
   "cell_type": "code",
   "execution_count": null,
   "id": "21ba4b39",
   "metadata": {},
   "outputs": [],
   "source": [
    "infile = 'results/PETandDX_ND_PPI_SHUFFLED_runs.csv'\n",
    "data = pd.read_csv(infile, index_col='random')\n",
    "\n",
    "pval1, pval2, pval3 = compute_pvalues(nd_ppi_petdx, mean_nd_ppi_petdx, data)\n",
    "\n",
    "print(pval1)\n",
    "print(pval2)\n",
    "print(pval3)"
   ]
  },
  {
   "cell_type": "markdown",
   "id": "b185bf88",
   "metadata": {},
   "source": [
    "### Original runs vs. \"Rewired\" random runs"
   ]
  },
  {
   "cell_type": "code",
   "execution_count": null,
   "id": "2e013848",
   "metadata": {},
   "outputs": [],
   "source": [
    "infile = 'results/PET_AD_PPI_REWIRED_runs.csv'\n",
    "data = pd.read_csv(infile, index_col='random')\n",
    "\n",
    "pval1, pval2, pval3 = compute_pvalues(ad_ppi_pet, mean_ad_ppi_pet, data)\n",
    "\n",
    "print(pval1)\n",
    "print(pval2)\n",
    "print(pval3)"
   ]
  },
  {
   "cell_type": "code",
   "execution_count": null,
   "id": "72f8b0fe",
   "metadata": {},
   "outputs": [],
   "source": [
    "infile = 'results/PET_ND_PPI_REWIRED_runs.csv'\n",
    "data = pd.read_csv(infile, index_col='random')\n",
    "\n",
    "pval1, pval2, pval3 = compute_pvalues(nd_ppi_pet, mean_nd_ppi_pet, data)\n",
    "\n",
    "print(pval1)\n",
    "print(pval2)\n",
    "print(pval3)"
   ]
  },
  {
   "cell_type": "code",
   "execution_count": null,
   "id": "e8d17b27",
   "metadata": {},
   "outputs": [],
   "source": [
    "infile = 'results/PETandDX_AD_PPI_REWIRED_runs.csv'\n",
    "data = pd.read_csv(infile, index_col='random')\n",
    "\n",
    "pval1, pval2, pval3 = compute_pvalues(ad_ppi_petdx, mean_ad_ppi_petdx, data)\n",
    "\n",
    "print(pval1)\n",
    "print(pval2)\n",
    "print(pval3)"
   ]
  },
  {
   "cell_type": "code",
   "execution_count": null,
   "id": "45ca6b76",
   "metadata": {},
   "outputs": [],
   "source": [
    "infile = 'results/PETandDX_ND_PPI_REWIRED_runs.csv'\n",
    "data = pd.read_csv(infile, index_col='random')\n",
    "\n",
    "pval1, pval2, pval3 = compute_pvalues(nd_ppi_petdx, mean_nd_ppi_petdx, data)\n",
    "\n",
    "print(pval1)\n",
    "print(pval2)\n",
    "print(pval3)"
   ]
  }
 ],
 "metadata": {
  "interpreter": {
   "hash": "66aa8a52186b72b252f72b6e4552bf9f565b016e4a1eb11651806c6ee13e2f8f"
  },
  "kernelspec": {
   "display_name": "Python 3",
   "language": "python",
   "name": "python3"
  },
  "language_info": {
   "codemirror_mode": {
    "name": "ipython",
    "version": 3
   },
   "file_extension": ".py",
   "mimetype": "text/x-python",
   "name": "python",
   "nbconvert_exporter": "python",
   "pygments_lexer": "ipython3",
   "version": "3.7.10"
  }
 },
 "nbformat": 4,
 "nbformat_minor": 5
}
