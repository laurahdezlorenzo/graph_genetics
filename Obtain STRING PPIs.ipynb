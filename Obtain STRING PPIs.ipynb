{
 "cells": [
  {
   "cell_type": "markdown",
   "metadata": {},
   "source": [
    "### Obtain biological networks\n",
    "#### Original PPI networks from STRING"
   ]
  },
  {
   "cell_type": "code",
   "execution_count": null,
   "metadata": {},
   "outputs": [],
   "source": [
    "\n",
    "import networks.get_PPI_STRING as string\n",
    "\n",
    "species = 9606\n",
    "identity = 'lhlorenzo'"
   ]
  },
  {
   "cell_type": "code",
   "execution_count": null,
   "metadata": {},
   "outputs": [],
   "source": [
    "disease = 'AD'\n",
    "\n",
    "genes_of_interest = string.load_GDAs(f'data/{disease}_GDAs.tsv')\n",
    "string_ids = string.get_string_ids(genes_of_interest, species, identity)\n",
    "string.get_PPI_network(string_ids, species, identity, disease)"
   ]
  },
  {
   "cell_type": "code",
   "execution_count": null,
   "metadata": {},
   "outputs": [],
   "source": [
    "disease = 'ND'\n",
    "\n",
    "genes_of_interest = string.load_GDAs(f'data/{disease}_GDAs.tsv')\n",
    "string_ids = string.get_string_ids(genes_of_interest, species, identity)\n",
    "string.get_PPI_network(string_ids, species, identity, disease)"
   ]
  }
 ],
 "metadata": {
  "interpreter": {
   "hash": "5e0466fb38f8b8207bee76f1d5f01e5f82e3be8917a80d900a987709dfd81e7a"
  },
  "kernelspec": {
   "display_name": "Python 3.7.10 ('graphgym')",
   "language": "python",
   "name": "python3"
  },
  "language_info": {
   "codemirror_mode": {
    "name": "ipython",
    "version": 3
   },
   "file_extension": ".py",
   "mimetype": "text/x-python",
   "name": "python",
   "nbconvert_exporter": "python",
   "pygments_lexer": "ipython3",
   "version": "3.7.12"
  },
  "orig_nbformat": 4
 },
 "nbformat": 4,
 "nbformat_minor": 2
}
