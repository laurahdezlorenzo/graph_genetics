{
 "cells": [
  {
   "cell_type": "code",
   "execution_count": null,
   "metadata": {},
   "outputs": [],
   "source": [
    "import pandas as pd\n",
    "import matplotlib.pyplot as plt\n",
    "import seaborn as sns\n",
    "sns.set(font=\"Helvetica\")"
   ]
  },
  {
   "cell_type": "markdown",
   "metadata": {},
   "source": [
    "**Figure 2: (A) PET target, (B) PET&DX target from ADNI**"
   ]
  },
  {
   "cell_type": "code",
   "execution_count": null,
   "metadata": {},
   "outputs": [],
   "source": [
    "def barplot_comparision_ml(target, bs, df, metric, title):\n",
    "    \n",
    "    colors = [\"#F8766D\", \"#a3a500\", \"#00bf7d\", \"#00b0f6\", \"#E76BF3\"]\n",
    "    custom = sns.set_palette(sns.color_palette(colors))\n",
    "\n",
    "    plt.figure(figsize=(8, 8))\n",
    "    ax = sns.barplot(x = 'Dataset',\n",
    "                     y = metric,\n",
    "                     hue = 'Model',\n",
    "                     ci = 'sd',\n",
    "                     data = df,\n",
    "                     palette = custom)\n",
    "    plt.axhline(y=bs, color='r', linestyle='dotted', label=f'Baseline model ({bs})')\n",
    "    plt.legend(fontsize=14, loc='upper right')\n",
    "    plt.ylim(0.0, 1.0)\n",
    "    plt.xticks(fontsize=16)\n",
    "    plt.yticks(fontsize=16)\n",
    "    ax.xaxis.label.set_visible(False)\n",
    "    plt.ylabel(f'{metric} obtained in test set', fontsize=16)\n",
    "    plt.title(title, fontsize=16)\n",
    "    plt.tight_layout()\n",
    "    \n",
    "    plt.savefig(f'figures/figure2{title}.pdf', dpi=500)\n",
    "    plt.savefig(f'figures/figure2{title}.png', dpi=500)"
   ]
  },
  {
   "cell_type": "code",
   "execution_count": null,
   "metadata": {},
   "outputs": [],
   "source": [
    "pet_results = pd.read_csv('results/GNNs_comparison/2022_01_PET.csv')\n",
    "pet_baseline = pet_results.iloc[60]\n",
    "pet_results.drop([60], inplace=True)\n",
    "\n",
    "barplot_comparision_ml('PET', pet_baseline['AUC'], pet_results, 'AUC', r\"($\\bf{A}$) PET\")"
   ]
  },
  {
   "cell_type": "code",
   "execution_count": null,
   "metadata": {},
   "outputs": [],
   "source": [
    "petdx_results = pd.read_csv('results/GNNs_comparison/2022_01_PETandDX.csv')\n",
    "petdx_baseline = petdx_results.iloc[60]\n",
    "petdx_results.drop([60], inplace=True)\n",
    "\n",
    "barplot_comparision_ml('PET&DX', petdx_baseline['AUC'], petdx_results, 'AUC', r\"($\\bf{B}$) PET&DX\")"
   ]
  },
  {
   "cell_type": "markdown",
   "metadata": {},
   "source": [
    "**Figure 3: (A) PET target, (B) PET&DX target from ADNI**"
   ]
  },
  {
   "cell_type": "code",
   "execution_count": null,
   "metadata": {},
   "outputs": [],
   "source": [
    "def barplot_comparision_others(target, bs, df, metric, title):\n",
    "    \n",
    "    colors = [\"#E76BF3\", \"#9590ff\", \"#9590ff\", \"#9590ff\", \"#9590ff\"]\n",
    "    custom = sns.set_palette(sns.color_palette(colors))\n",
    "\n",
    "    plt.figure(figsize=(6, 8))\n",
    "    ax = sns.barplot(x = 'Dataset',\n",
    "                     y = metric,\n",
    "                     ci = 'sd',\n",
    "                     data = df,\n",
    "                     palette = custom)\n",
    "    plt.axhline(y=bs, color='r', linestyle='dotted', label=f'Baseline model ({bs})')\n",
    "    plt.legend(fontsize=14, loc='upper right')\n",
    "    plt.ylim(0, 1.0)\n",
    "    plt.xticks(fontsize=16, rotation=60)\n",
    "    plt.yticks(fontsize=16)\n",
    "    ax.xaxis.label.set_visible(False)\n",
    "    plt.ylabel(f'{metric} obtained in test set', fontsize=16)\n",
    "    plt.title(title, fontsize=16)\n",
    "    plt.tight_layout()\n",
    "    \n",
    "    plt.savefig(f'figures/figure3{title}.pdf', dpi=500)\n",
    "    plt.savefig(f'figures/figure3{title}.png', dpi=500)"
   ]
  },
  {
   "cell_type": "code",
   "execution_count": null,
   "metadata": {},
   "outputs": [],
   "source": [
    "pet_results = pd.read_csv('results/GNNs_other_networks/2022_01_PET_others.csv')\n",
    "barplot_comparision_others('PET', 0.6894, pet_results, 'AUC', r\"($\\bf{A}$) PET\")"
   ]
  },
  {
   "cell_type": "code",
   "execution_count": null,
   "metadata": {},
   "outputs": [],
   "source": [
    "petdx_results = pd.read_csv('results/GNNs_other_networks/2022_01_PETandDX_others.csv')\n",
    "barplot_comparision_others('PETandDX', 0.6825, petdx_results, 'AUC', r\"($\\bf{B}$) PET&DX\")"
   ]
  },
  {
   "cell_type": "markdown",
   "metadata": {},
   "source": [
    "**Supplementary tables - Models' classification metrics**"
   ]
  },
  {
   "cell_type": "code",
   "execution_count": 16,
   "metadata": {},
   "outputs": [],
   "source": [
    "pet_models = pd.read_csv('results/GNNs_comparison/2022_01_PET.csv')\n",
    "pet_grouped = pet_models.groupby(['Target', 'Dataset', 'Model']).agg({'ACC': ['mean', 'std'], 'PRE': ['mean', 'std'], 'REC': ['mean', 'std'], 'F1': ['mean', 'std'], 'AUC': ['mean', 'std']})\n",
    "pet_grouped.to_csv('results/GNNs_comparison/2022_01_PET_AGG.csv')"
   ]
  },
  {
   "cell_type": "code",
   "execution_count": 17,
   "metadata": {},
   "outputs": [],
   "source": [
    "petdx_models = pd.read_csv('results/GNNs_comparison/2022_01_PETandDX.csv')\n",
    "petdx_grouped = petdx_models.groupby(['Target', 'Dataset', 'Model']).agg({'ACC': ['mean', 'std'], 'PRE': ['mean', 'std'], 'REC': ['mean', 'std'], 'F1': ['mean', 'std'], 'AUC': ['mean', 'std']})\n",
    "petdx_grouped.to_csv('results/GNNs_comparison/2022_01_PETandDX_AGG.csv')"
   ]
  }
 ],
 "metadata": {
  "interpreter": {
   "hash": "5e0466fb38f8b8207bee76f1d5f01e5f82e3be8917a80d900a987709dfd81e7a"
  },
  "kernelspec": {
   "display_name": "Python 3.7.10 ('graphgym')",
   "language": "python",
   "name": "python3"
  },
  "language_info": {
   "codemirror_mode": {
    "name": "ipython",
    "version": 3
   },
   "file_extension": ".py",
   "mimetype": "text/x-python",
   "name": "python",
   "nbconvert_exporter": "python",
   "pygments_lexer": "ipython3",
   "version": "3.7.10"
  },
  "orig_nbformat": 4
 },
 "nbformat": 4,
 "nbformat_minor": 2
}
