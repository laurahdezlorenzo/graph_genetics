{
 "cells": [
  {
   "cell_type": "markdown",
   "metadata": {},
   "source": [
    "### Obtain different biological networks\n",
    "#### Original PPI networks from STRING"
   ]
  },
  {
   "cell_type": "code",
   "execution_count": 1,
   "metadata": {},
   "outputs": [],
   "source": [
    "\n",
    "import get_PPI_STRING as string\n",
    "\n",
    "species = 9606\n",
    "identity = 'lhlorenzo'"
   ]
  },
  {
   "cell_type": "code",
   "execution_count": 2,
   "metadata": {},
   "outputs": [
    {
     "name": "stdout",
     "output_type": "stream",
     "text": [
      "Unique genes from DisGeNET: 101\n",
      "Genes in STRING: 91\n",
      "Interactions between these genes: 230\n",
      "Proteins interacting at least with another one: 59\n"
     ]
    }
   ],
   "source": [
    "disease = 'AD'\n",
    "\n",
    "genes_of_interest = string.load_GDAs(f'data/{disease}_GDAs.tsv')\n",
    "string_ids = string.get_string_ids(genes_of_interest, species, identity)\n",
    "string.get_PPI_network(string_ids, species, identity, disease)"
   ]
  },
  {
   "cell_type": "code",
   "execution_count": 3,
   "metadata": {},
   "outputs": [
    {
     "name": "stdout",
     "output_type": "stream",
     "text": [
      "Unique genes from DisGeNET: 231\n",
      "Genes in STRING: 218\n",
      "Interactions between these genes: 778\n",
      "Proteins interacting at least with another one: 160\n"
     ]
    }
   ],
   "source": [
    "disease = 'ND'\n",
    "\n",
    "genes_of_interest = string.load_GDAs(f'data/{disease}_GDAs.tsv')\n",
    "string_ids = string.get_string_ids(genes_of_interest, species, identity)\n",
    "string.get_PPI_network(string_ids, species, identity, disease)"
   ]
  },
  {
   "cell_type": "markdown",
   "metadata": {},
   "source": [
    "### NetworkS from other data sources\n",
    "Using AD gene set\n",
    "\n",
    "#### BioGRID (PPI)"
   ]
  },
  {
   "cell_type": "code",
   "execution_count": 5,
   "metadata": {},
   "outputs": [],
   "source": [
    "import requests\n",
    "import json\n",
    "import pandas as pd"
   ]
  },
  {
   "cell_type": "code",
   "execution_count": 7,
   "metadata": {},
   "outputs": [],
   "source": [
    "request_url = \"https://webservice.thebiogrid.org\" + \"/interactions\"\n",
    "access_key = \"6a15ac18eadaa8786bc1a88d0ae00171\"\n",
    "\n",
    "infile = open(\"data/AD_GDAs.txt\", \"r\")\n",
    "geneList = infile.read().split(\"\\n\")\n",
    "infile.close()\n",
    "\n",
    "# These parameters can be modified to match any search criteria following\n",
    "# the rules outlined in the Wiki: https://wiki.thebiogrid.org/doku.php/biogridrest\n",
    "params = {\n",
    "    \"accesskey\": access_key,\n",
    "    \"format\": \"json\",  # Return results in TAB2 format\n",
    "    \"geneList\": \"|\".join(geneList),  # Must be | separated\n",
    "    \"searchNames\": \"true\",  # Search against official names\n",
    "    'interSpeciesExcluded': 'true', # interactions w/ different species are excluded\n",
    "    'throughputTag': 'high', \n",
    "    'includeHeader': 'true',\n",
    "    \"includeInteractors\": \"false\",  # set to false to get interactions between genes\n",
    "    \"taxId\": 9606  # Limit to Homo sapiens\n",
    "}\n",
    "\n",
    "r = requests.get(request_url, params=params)\n",
    "interactions = r.json()\n",
    "\n",
    "# Create a hash of results by interaction identifier\n",
    "data = {}\n",
    "for interaction_id, interaction in interactions.items():\n",
    "    data[interaction_id] = interaction\n",
    "    # Add the interaction ID to the interaction record, so we can reference it easier\n",
    "    data[interaction_id][\"INTERACTION_ID\"] = interaction_id\n",
    "\n",
    "# Load the data into a pandas dataframe\n",
    "dataset = pd.DataFrame.from_dict(data, orient=\"index\")\n",
    "\n",
    "# Re-order the columns and select only the columns we want to see\n",
    "\n",
    "columns = [\n",
    "    \"INTERACTION_ID\",\n",
    "    \"ENTREZ_GENE_A\",\n",
    "    \"ENTREZ_GENE_B\",\n",
    "    \"OFFICIAL_SYMBOL_A\",\n",
    "    \"OFFICIAL_SYMBOL_B\",\n",
    "    \"EXPERIMENTAL_SYSTEM\",\n",
    "    \"PUBMED_ID\",\n",
    "    \"PUBMED_AUTHOR\",\n",
    "    \"THROUGHPUT\",\n",
    "    \"QUALIFICATIONS\",\n",
    "]\n",
    "dataset = dataset[columns]\n",
    "\n",
    "edgelist = dataset[['OFFICIAL_SYMBOL_A', 'OFFICIAL_SYMBOL_B']]\n",
    "edgelist.to_csv('data/other_networks/AD_BioGrid_PPI.edgelist', sep='\\t', index=False, header=None)"
   ]
  },
  {
   "cell_type": "markdown",
   "metadata": {},
   "source": [
    "#### HuRI (PPI)\n",
    "HuRI interactions were downloaded from HuRI webpage and then parsed to obtain the corresponding edgelist."
   ]
  },
  {
   "cell_type": "code",
   "execution_count": 8,
   "metadata": {},
   "outputs": [],
   "source": [
    "interactions = pd.read_csv('data/other_networks/HuRI_download_interactions_dec_16_2021_11_54_03.csv', comment='#')\n",
    "edgelist = interactions[['Interactor A Gene Name', 'Interactor B Gene Name']]\n",
    "edgelist.to_csv('data/other_networks/AD_HuRI_PPI.edgelist', sep='\\t', index=None, header=False)"
   ]
  },
  {
   "cell_type": "markdown",
   "metadata": {},
   "source": [
    "#### PPT-Ohmnet (PPI, brain-specific)"
   ]
  },
  {
   "cell_type": "code",
   "execution_count": 9,
   "metadata": {},
   "outputs": [],
   "source": [
    "import networkx as nx\n",
    "import mygene\n",
    "import pandas as pd\n",
    "import matplotlib.pyplot as plt"
   ]
  },
  {
   "cell_type": "code",
   "execution_count": 10,
   "metadata": {},
   "outputs": [],
   "source": [
    "infile = 'data/other_networks/PPT-Ohmnet_tissues-combined.edgelist'\n",
    "G = nx.read_edgelist(infile, nodetype=int, data=(('tissue', str),))\n",
    "\n",
    "tissues_edgelist = pd.read_csv(infile, sep='\\t')\n",
    "brain_specific = tissues_edgelist[tissues_edgelist['tissue'] == 'brain']\n",
    "\n",
    "brain_specific.to_csv('data/other_networks/PPT-Ohmnet_tissues-brain.edgelist', sep='\\t', index=False)\n",
    "G_brain = nx.read_edgelist('data/other_networks/PPT-Ohmnet_tissues-brain.edgelist', nodetype=int, data=(('tissue', str),))"
   ]
  },
  {
   "cell_type": "markdown",
   "metadata": {},
   "source": [
    "Genes in PPT-Ohmnet are Entrez IDs, it is necessary to convert them to gene Symbols."
   ]
  },
  {
   "cell_type": "code",
   "execution_count": 11,
   "metadata": {},
   "outputs": [
    {
     "name": "stdout",
     "output_type": "stream",
     "text": [
      "querying 1-102...done.\n",
      "Finished.\n"
     ]
    }
   ],
   "source": [
    "# List of genes to search for\n",
    "infile = open(\"data/AD_GDAs.txt\", \"r\")\n",
    "genes = infile.read().split(\"\\n\")\n",
    "infile.close()\n",
    "len(genes)\n",
    "\n",
    "mg = mygene.MyGeneInfo()\n",
    "out = mg.querymany(genes, scopes='symbol', fields='entrezgene', species='human')\n",
    "\n",
    "entrezgenes = []\n",
    "for o in out:\n",
    "    entrezgenes.append(int(o['entrezgene']))\n",
    "\n",
    "A_brain_frozen = G_brain.subgraph(entrezgenes)\n",
    "A_brain = nx.Graph(A_brain_frozen)"
   ]
  },
  {
   "cell_type": "code",
   "execution_count": 12,
   "metadata": {},
   "outputs": [],
   "source": [
    "# Delete nodes from components with less than 5 nodes\n",
    "nodes_to_remove = []\n",
    "for component in list(nx.connected_components(A_brain)):\n",
    "    if len(component)<5:\n",
    "        for node in component:\n",
    "            A_brain.remove_node(node)\n",
    "\n",
    "# Remove self-loops\n",
    "A_brain.remove_edges_from(list(nx.selfloop_edges(A_brain)))\n",
    "\n",
    "nx.write_edgelist(A_brain, 'data/other_networks/AD_SNAP_brain.edgelist')"
   ]
  },
  {
   "cell_type": "markdown",
   "metadata": {},
   "source": [
    "#### GIANT (PPI, brain-specific)"
   ]
  },
  {
   "cell_type": "code",
   "execution_count": 13,
   "metadata": {},
   "outputs": [],
   "source": [
    "G_brain = nx.read_edgelist('data/other_networks/brain_C1.dat', nodetype=int, data=(('code', int),))"
   ]
  },
  {
   "cell_type": "markdown",
   "metadata": {},
   "source": [
    "Genes in GIANT are Entrez IDs, it is necessary to convert them to gene Symbols."
   ]
  },
  {
   "cell_type": "code",
   "execution_count": 14,
   "metadata": {},
   "outputs": [
    {
     "name": "stdout",
     "output_type": "stream",
     "text": [
      "querying 1-102...done.\n",
      "Finished.\n"
     ]
    },
    {
     "data": {
      "text/plain": [
       "45"
      ]
     },
     "execution_count": 14,
     "metadata": {},
     "output_type": "execute_result"
    }
   ],
   "source": [
    "# List of genes to search for\n",
    "infile = open(\"data/AD_GDAs.txt\", \"r\")\n",
    "genes = infile.read().split(\"\\n\")\n",
    "infile.close()\n",
    "\n",
    "mg = mygene.MyGeneInfo()\n",
    "out = mg.querymany(genes, scopes='symbol', fields='entrezgene', species='human')\n",
    "\n",
    "entrezgenes = []\n",
    "for o in out:\n",
    "    entrezgenes.append(int(o['entrezgene']))\n",
    "\n",
    "A_brain_frozen = G_brain.subgraph(entrezgenes)\n",
    "A_brain = nx.Graph(A_brain_frozen)\n",
    "len(A_brain.nodes)"
   ]
  },
  {
   "cell_type": "code",
   "execution_count": 15,
   "metadata": {},
   "outputs": [],
   "source": [
    "# Delete nodes from components with less than 5 nodes\n",
    "nodes_to_remove = []\n",
    "for component in list(nx.connected_components(A_brain)):\n",
    "    if len(component)<5:\n",
    "        for node in component:\n",
    "            A_brain.remove_node(node)\n",
    "\n",
    "# Remove self-loops\n",
    "A_brain.remove_edges_from(list(nx.selfloop_edges(A_brain)))\n",
    "\n",
    "nx.write_edgelist(A_brain, 'data/other_networks/AD_GIANT_brain.edgelist')"
   ]
  }
 ],
 "metadata": {
  "interpreter": {
   "hash": "5e0466fb38f8b8207bee76f1d5f01e5f82e3be8917a80d900a987709dfd81e7a"
  },
  "kernelspec": {
   "display_name": "Python 3.7.10 ('graphgym')",
   "language": "python",
   "name": "python3"
  },
  "language_info": {
   "codemirror_mode": {
    "name": "ipython",
    "version": 3
   },
   "file_extension": ".py",
   "mimetype": "text/x-python",
   "name": "python",
   "nbconvert_exporter": "python",
   "pygments_lexer": "ipython3",
   "version": "3.7.10"
  },
  "orig_nbformat": 4
 },
 "nbformat": 4,
 "nbformat_minor": 2
}
