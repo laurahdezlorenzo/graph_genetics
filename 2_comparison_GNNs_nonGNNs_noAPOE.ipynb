{
 "cells": [
  {
   "cell_type": "code",
   "execution_count": 1,
   "metadata": {},
   "outputs": [],
   "source": [
    "import pandas as pd\n",
    "import networkx as nx\n",
    "import seaborn as sns\n",
    "import matplotlib.pyplot as plt\n",
    "import datetime, pickle, subprocess\n",
    "from networks import bio_networks, utils\n",
    "from create_datasets import create_nx_datasets\n",
    "from create_datasets.create_table_datasets import adni_data\n"
   ]
  },
  {
   "cell_type": "markdown",
   "metadata": {},
   "source": [
    "**1. Create graph datasets**\n",
    "\n",
    "Create the correspoding graph-datasets for AD PPT-Ohmnet network without APOE (28 nodes, 46 edges, density: 0.1216, diameter: 6)"
   ]
  },
  {
   "cell_type": "code",
   "execution_count": 2,
   "metadata": {},
   "outputs": [
    {
     "name": "stdout",
     "output_type": "stream",
     "text": [
      "Network used: AD snap_brain_noAPOE\n",
      "# nodes = 28\n",
      "# edges = 46\n",
      "\n",
      "Dataset used: ADNI\n",
      "missense\n",
      "(28, 808)\n",
      "Creating samples graphs...\n",
      "Class: PET. Found 410 positive subjects out of 726\n",
      "Sample graph used: # nodes = 28 # edges = 46\n",
      "Density = 0.12169312169312169 Diameter = 6\n",
      "Resulting dataset saved at: data/graph_datasets/PET/AD_PPI_snap_brain_noAPOE_missense.pkl\n",
      "\n",
      "Network used: AD snap_brain_noAPOE\n",
      "# nodes = 28\n",
      "# edges = 46\n",
      "\n",
      "Dataset used: ADNI\n",
      "missense\n",
      "(28, 808)\n",
      "Creating samples graphs...\n",
      "Class: PETandDX. Found 182 positive subjects out of 317\n",
      "Sample graph used: # nodes = 28 # edges = 46\n",
      "Density = 0.12169312169312169 Diameter = 6\n",
      "Resulting dataset saved at: data/graph_datasets/PETandDX/AD_PPI_snap_brain_noAPOE_missense.pkl\n",
      "\n"
     ]
    }
   ],
   "source": [
    "# Create graph datasets with snap_brain network without APOE gene\n",
    "targets = ['PET', 'PETandDX']\n",
    "\n",
    "for target in targets:\n",
    "\n",
    "    outdir = f'data/graph_datasets/{target}'\n",
    "\n",
    "    result_nodes = create_nx_datasets.main('data', 'ADNI', target, 'AD', 'snap_brain_noAPOE', 'missense', None)\n",
    "    outfile = f'{outdir}/AD_PPI_snap_brain_noAPOE_missense.pkl'\n",
    "    print('Resulting dataset saved at:', outfile)\n",
    "    print()\n",
    "\n",
    "    with open(outfile, 'wb') as f:\n",
    "        pickle.dump(result_nodes, f)"
   ]
  },
  {
   "cell_type": "markdown",
   "metadata": {},
   "source": [
    "**2. Graph classification with GNNs**\n",
    "\n",
    "We then trained and tested the best GNNs found for AD PPT-Ohmnet in the framework called [GraphGym](https://github.com/snap-stanford/GraphGym) (You *et al.*, 2020).\n",
    "\n",
    "Configuration and grid files employed are in the subdirectory [graphgym_files](graphgym_files).\n",
    "\n",
    "Summarized results obtained by GraphGym and other models are in **COMPLETE**"
   ]
  },
  {
   "cell_type": "markdown",
   "metadata": {},
   "source": [
    "**3. Create table datasets**\n",
    "\n",
    "Create table datasets (without APOE) for the targets and genes of interest to use as input for more-standard machine learning models."
   ]
  },
  {
   "cell_type": "code",
   "execution_count": 3,
   "metadata": {},
   "outputs": [
    {
     "ename": "TypeError",
     "evalue": "adni_data() missing 2 required positional arguments: 'data_file' and 'metadata_file'",
     "output_type": "error",
     "traceback": [
      "\u001b[0;31m---------------------------------------------------------------------------\u001b[0m",
      "\u001b[0;31mTypeError\u001b[0m                                 Traceback (most recent call last)",
      "\u001b[0;32m/tmp/ipykernel_6270/1003854723.py\u001b[0m in \u001b[0;36m<module>\u001b[0;34m\u001b[0m\n\u001b[1;32m      1\u001b[0m \u001b[0;31m# Create table datasets\u001b[0m\u001b[0;34m\u001b[0m\u001b[0;34m\u001b[0m\u001b[0;34m\u001b[0m\u001b[0m\n\u001b[1;32m      2\u001b[0m \u001b[0mdata\u001b[0m \u001b[0;34m=\u001b[0m \u001b[0mpd\u001b[0m\u001b[0;34m.\u001b[0m\u001b[0mread_csv\u001b[0m\u001b[0;34m(\u001b[0m\u001b[0;34m'data/table_datasets/AD_PPI_missense_ADNI_labeled.csv'\u001b[0m\u001b[0;34m,\u001b[0m \u001b[0mindex_col\u001b[0m \u001b[0;34m=\u001b[0m \u001b[0;36m0\u001b[0m\u001b[0;34m)\u001b[0m\u001b[0;34m\u001b[0m\u001b[0;34m\u001b[0m\u001b[0m\n\u001b[0;32m----> 3\u001b[0;31m \u001b[0mdata_wclass\u001b[0m \u001b[0;34m=\u001b[0m \u001b[0madni_data\u001b[0m\u001b[0;34m(\u001b[0m\u001b[0mdata\u001b[0m\u001b[0;34m,\u001b[0m \u001b[0;34m'PET'\u001b[0m\u001b[0;34m)\u001b[0m\u001b[0;34m\u001b[0m\u001b[0;34m\u001b[0m\u001b[0m\n\u001b[0m\u001b[1;32m      4\u001b[0m \u001b[0mdata_wclass\u001b[0m \u001b[0;34m=\u001b[0m \u001b[0mdata_wclass\u001b[0m\u001b[0;34m.\u001b[0m\u001b[0mloc\u001b[0m\u001b[0;34m[\u001b[0m\u001b[0;34m:\u001b[0m\u001b[0;34m,\u001b[0m \u001b[0;34m(\u001b[0m\u001b[0mdata_wclass\u001b[0m \u001b[0;34m!=\u001b[0m \u001b[0;36m0\u001b[0m\u001b[0;34m)\u001b[0m\u001b[0;34m.\u001b[0m\u001b[0many\u001b[0m\u001b[0;34m(\u001b[0m\u001b[0maxis\u001b[0m\u001b[0;34m=\u001b[0m\u001b[0;36m0\u001b[0m\u001b[0;34m)\u001b[0m\u001b[0;34m]\u001b[0m\u001b[0;34m\u001b[0m\u001b[0;34m\u001b[0m\u001b[0m\n\u001b[1;32m      5\u001b[0m \u001b[0mdata_wclass\u001b[0m \u001b[0;34m=\u001b[0m \u001b[0mdata_wclass\u001b[0m\u001b[0;34m.\u001b[0m\u001b[0mdrop\u001b[0m\u001b[0;34m(\u001b[0m\u001b[0mcolumns\u001b[0m\u001b[0;34m=\u001b[0m\u001b[0;34m[\u001b[0m\u001b[0;34m'APOE'\u001b[0m\u001b[0;34m]\u001b[0m\u001b[0;34m)\u001b[0m\u001b[0;34m\u001b[0m\u001b[0;34m\u001b[0m\u001b[0m\n",
      "\u001b[0;31mTypeError\u001b[0m: adni_data() missing 2 required positional arguments: 'data_file' and 'metadata_file'"
     ]
    }
   ],
   "source": [
    "# Create table datasets\n",
    "data = pd.read_csv('data/table_datasets/AD_PPI_missense_ADNI_labeled.csv', index_col = 0)\n",
    "data_wclass = adni_data('missense', 'data/other_networks/AD_SNAP_PPI_brain_noAPOE.edgelist', 'data/table_datasets/AD_PPI_missense_ADNI_labeled.csv', metadata_file)\n",
    "data_wclass = data_wclass.loc[:, (data_wclass != 0).any(axis=0)]\n",
    "data_wclass = data_wclass.drop(columns=['APOE'])\n",
    "data_wclass"
   ]
  },
  {
   "cell_type": "markdown",
   "metadata": {},
   "source": [
    "**2. Run no-GNN models**\n",
    "\n",
    "Run more-standard machine learning models 3 times (to properly compare with the 3 runs for each GNN model)."
   ]
  },
  {
   "cell_type": "code",
   "execution_count": 1,
   "metadata": {},
   "outputs": [],
   "source": [
    "# Classification with other non-GNN models"
   ]
  }
 ],
 "metadata": {
  "interpreter": {
   "hash": "5e0466fb38f8b8207bee76f1d5f01e5f82e3be8917a80d900a987709dfd81e7a"
  },
  "kernelspec": {
   "display_name": "Python 3.7.12 ('graphgym')",
   "language": "python",
   "name": "python3"
  },
  "language_info": {
   "codemirror_mode": {
    "name": "ipython",
    "version": 3
   },
   "file_extension": ".py",
   "mimetype": "text/x-python",
   "name": "python",
   "nbconvert_exporter": "python",
   "pygments_lexer": "ipython3",
   "version": "3.7.12"
  },
  "orig_nbformat": 4
 },
 "nbformat": 4,
 "nbformat_minor": 2
}
