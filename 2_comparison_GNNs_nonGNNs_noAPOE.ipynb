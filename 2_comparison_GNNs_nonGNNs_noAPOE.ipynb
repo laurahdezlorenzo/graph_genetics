{
 "cells": [
  {
   "cell_type": "code",
   "execution_count": null,
   "metadata": {},
   "outputs": [],
   "source": [
    "import pandas as pd\n",
    "import networkx as nx\n",
    "import seaborn as sns\n",
    "import matplotlib.pyplot as plt\n",
    "import datetime, pickle, subprocess\n",
    "from networks import bio_networks, utils\n",
    "from create_datasets import create_nx_datasets, create_splits"
   ]
  },
  {
   "cell_type": "code",
   "execution_count": null,
   "metadata": {},
   "outputs": [],
   "source": [
    "# Create graph datasets with snap_brain network without APOE gene\n",
    "targets = ['PET', 'PETandDX']\n",
    "\n",
    "for target in targets:\n",
    "\n",
    "    outdir = f'data/graph_datasets/{target}'\n",
    "\n",
    "    result_nodes = create_nx_datasets.main('data', 'ADNI', target, 'AD', 'snap_brain_noAPOE', 'missense', None)\n",
    "    outfile = f'{outdir}/AD_PPI_snap_brain_noAPOE_missense.pkl'\n",
    "    print('Resulting dataset saved at:', outfile)\n",
    "    print()\n",
    "\n",
    "    with open(outfile, 'wb') as f:\n",
    "        pickle.dump(result_nodes, f)"
   ]
  }
 ],
 "metadata": {
  "language_info": {
   "name": "python"
  },
  "orig_nbformat": 4
 },
 "nbformat": 4,
 "nbformat_minor": 2
}
