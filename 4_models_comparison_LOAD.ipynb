{
 "cells": [
  {
   "cell_type": "code",
   "execution_count": 1,
   "metadata": {},
   "outputs": [],
   "source": [
    "import pandas as pd\n",
    "import pickle as pkl\n",
    "from create_datasets.create_table_datasets import load_data\n",
    "from ml_models.machine_learning_models import create_class_LOAD, main, baseline_model\n",
    "import seaborn as sns\n",
    "import matplotlib.pyplot as plt\n",
    "\n",
    "# plt.style.use('ggplot')\n",
    "sns.set(font=\"Helvetica\")"
   ]
  },
  {
   "cell_type": "markdown",
   "metadata": {},
   "source": [
    "**1. Create table datasets**\n",
    "\n",
    "Create table datasets (with and without APOE) for the targets and genes of interest to use as input for more-standard machine learning models."
   ]
  },
  {
   "cell_type": "code",
   "execution_count": 2,
   "metadata": {},
   "outputs": [],
   "source": [
    "diseases = ['AD', 'ND']\n",
    "\n",
    "for disease in diseases:\n",
    "\n",
    "    infile1 = f'data/table_datasets/{disease}_PPI_missense_LOAD.csv'\n",
    "    infile2 = 'data/LOAD/LOAD_metadata.tsv'\n",
    "\n",
    "    table_dataset = load_data('missense', disease, infile1, infile2)\n",
    "    table_dataset.to_csv(f'data/table_datasets/{disease}_PPI_missense_LOAD_labeled.csv')"
   ]
  },
  {
   "cell_type": "code",
   "execution_count": 3,
   "metadata": {},
   "outputs": [
    {
     "name": "stdout",
     "output_type": "stream",
     "text": [
      "Class distribution:\n",
      "1    1014\n",
      "0     585\n",
      "Name: y, dtype: int64\n",
      "0.66875 0.7553191489361702 0.7029702970297029 0.7282051282051281\n",
      "\n",
      "\n",
      "Confusion matrix:\n",
      " [[36 23]\n",
      " [30 71]]\n",
      "\n",
      "              precision    recall  f1-score   support\n",
      "\n",
      "           0       0.55      0.61      0.58        59\n",
      "           1       0.76      0.70      0.73       101\n",
      "\n",
      "    accuracy                           0.67       160\n",
      "   macro avg       0.65      0.66      0.65       160\n",
      "weighted avg       0.68      0.67      0.67       160\n",
      "\n",
      "Baseline model LOAD, AUC ROC: 0.6266152038932706\n"
     ]
    }
   ],
   "source": [
    "target = 'LOAD'\n",
    "\n",
    "infile = f'data/table_datasets/AD_PPI_missense_LOAD_labeled.csv'\n",
    "data = pd.read_csv(infile, index_col = 0)\n",
    "data_wclass = create_class_LOAD(data)\n",
    "\n",
    "x = data_wclass.drop(columns=['y'])\n",
    "x = x['APOE']\n",
    "\n",
    "y = data_wclass['y']\n",
    "x.index = x.index.str.upper()\n",
    "\n",
    "f = open(f'data/splits/split_{target}.pkl', 'rb')\n",
    "split = pkl.load(f)\n",
    "f.close()\n",
    "\n",
    "auc = baseline_model(split, x, y)\n",
    "print(f'Baseline model {target}, AUC ROC:', auc)"
   ]
  },
  {
   "cell_type": "markdown",
   "metadata": {},
   "source": [
    "**2. Run no-GNN models**\n",
    "\n",
    "Run more-standard machine learning models 3 times (to properly compare with the 3 runs for each GNN model)."
   ]
  },
  {
   "cell_type": "code",
   "execution_count": 4,
   "metadata": {},
   "outputs": [
    {
     "name": "stdout",
     "output_type": "stream",
     "text": [
      "Class distribution:\n",
      "1    1014\n",
      "0     585\n",
      "Name: y, dtype: int64\n",
      "\n",
      "Classification with LOAD - Split 10.0% - GridSearchCV 5\n",
      "      APOE  BDNF  EPHA1  HFE  INSR  MAPT  MTHFR   TF  HMOX1  GAPDHS  ...  \\\n",
      "0      0.0   0.0    0.0  0.0   0.0   0.0    1.0  1.0    0.0     0.0  ...   \n",
      "1      0.0   0.0    0.0  0.0   0.0   0.0    1.0  0.0    0.0     0.0  ...   \n",
      "2      0.0   0.0    0.0  0.0   0.0   1.0    1.0  1.0    0.0     0.0  ...   \n",
      "3      0.0   1.0    0.0  0.0   0.0   1.0    1.0  0.0    0.0     0.0  ...   \n",
      "4      0.0   0.0    0.0  0.0   0.0   1.0    1.0  1.0    0.0     0.0  ...   \n",
      "...    ...   ...    ...  ...   ...   ...    ...  ...    ...     ...  ...   \n",
      "1594   0.0   1.0    0.0  1.0   0.0   0.0    0.0  1.0    0.0     0.0  ...   \n",
      "1595   0.0   0.0    0.0  0.0   0.0   0.0    1.0  1.0    0.0     0.0  ...   \n",
      "1596   0.0   1.0    0.0  0.0   0.0   1.0    1.0  0.0    0.0     0.0  ...   \n",
      "1597   0.0   0.0    0.0  0.0   0.0   1.0    1.0  0.0    0.0     0.0  ...   \n",
      "1598   0.0   1.0    0.0  0.0   0.0   1.0    1.0  0.0    0.0     0.0  ...   \n",
      "\n",
      "      SOD2  HLA-DRB5  TOMM40  RELN  TREM2  SORL1  BIN1  APOC1  CLU  APP  \n",
      "0      0.0       0.0     0.0   0.0    0.0    0.0   0.0    0.0  0.0  0.0  \n",
      "1      0.0       0.0     0.0   0.0    0.0    0.0   0.0    0.0  0.0  0.0  \n",
      "2      0.0       0.0     0.0   0.0    0.0    0.0   0.0    0.0  0.0  0.0  \n",
      "3      0.0       0.0     0.0   0.0    0.0    0.0   0.0    0.0  0.0  0.0  \n",
      "4      0.0       0.0     0.0   0.0    0.0    0.0   0.0    0.0  0.0  0.0  \n",
      "...    ...       ...     ...   ...    ...    ...   ...    ...  ...  ...  \n",
      "1594   0.0       0.0     0.0   0.0    0.0    0.0   0.0    0.0  0.0  0.0  \n",
      "1595   0.0       0.0     0.0   0.0    0.0    0.0   0.0    0.0  0.0  0.0  \n",
      "1596   0.0       0.0     0.0   0.0    0.0    0.0   0.0    0.0  0.0  0.0  \n",
      "1597   0.0       0.0     0.0   0.0    0.0    0.0   0.0    0.0  0.0  0.0  \n",
      "1598   0.0       0.0     0.0   0.0    0.0    0.0   0.0    0.0  0.0  0.0  \n",
      "\n",
      "[1599 rows x 30 columns]\n",
      "\n",
      "Train set\n",
      "1    913\n",
      "0    526\n",
      "Name: y, dtype: int64\n",
      "Test set\n",
      "1    101\n",
      "0     59\n",
      "Name: y, dtype: int64\n",
      "\n",
      "Grid Search CV - Random Forest\n",
      "The best parameters are {'bootstrap': True, 'max_features': 'sqrt', 'n_estimators': 100} with a score of 0.65\n",
      "\n",
      "Grid Search CV - SVM linear\n",
      "[{'kernel': ['linear'], 'C': [0.01, 0.1, 1, 10, 100, 1000]}]\n"
     ]
    }
   ],
   "source": [
    "diseases = ['AD', 'ND']\n",
    "\n",
    "for disease in diseases:\n",
    "    for i in range(1, 4):\n",
    "        result_ad = main('LOAD', disease, 'PPI', 'LOAD', 'data/table_datasets', f'results/GNNs_LOAD/results_{disease}_missense_LOAD_rep{i}')"
   ]
  },
  {
   "cell_type": "markdown",
   "metadata": {},
   "source": [
    "Joint results of both baseline, no-GNN, and GNN models are in [results/GNNs_comparison](results/GNNs_comparison/) for [PET](results/GNNs_comparison/2022_01_PET.csv) and [PET&DX](results/GNNs_comparison/2022_01_PETandDX.csv) targets."
   ]
  }
 ],
 "metadata": {
  "interpreter": {
   "hash": "5e0466fb38f8b8207bee76f1d5f01e5f82e3be8917a80d900a987709dfd81e7a"
  },
  "kernelspec": {
   "display_name": "Python 3.7.10 ('graphgym')",
   "language": "python",
   "name": "python3"
  },
  "language_info": {
   "codemirror_mode": {
    "name": "ipython",
    "version": 3
   },
   "file_extension": ".py",
   "mimetype": "text/x-python",
   "name": "python",
   "nbconvert_exporter": "python",
   "pygments_lexer": "ipython3",
   "version": "3.7.10"
  },
  "orig_nbformat": 4
 },
 "nbformat": 4,
 "nbformat_minor": 2
}
