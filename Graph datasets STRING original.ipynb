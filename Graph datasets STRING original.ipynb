{
 "cells": [
  {
   "cell_type": "code",
   "execution_count": null,
   "metadata": {},
   "outputs": [],
   "source": [
    "import create_datasets.create_nx_datasets\n",
    "import networkx as nx\n",
    "import datetime, pickle"
   ]
  },
  {
   "cell_type": "markdown",
   "metadata": {},
   "source": [
    "### PET target - AD gene set - STRING network"
   ]
  },
  {
   "cell_type": "code",
   "execution_count": null,
   "metadata": {},
   "outputs": [],
   "source": [
    "dataset = 'ADNI'\n",
    "target = 'PET'\n",
    "disease = 'AD'\n",
    "network = 'original'\n",
    "\n",
    "indir = 'data'\n",
    "outdir = f'data/graph_datasets/{target}'\n",
    "print('Input directory:', indir)\n",
    "print('Output directory:', outdir)\n",
    "print()\n",
    "\n",
    "\n",
    "start_time = datetime.datetime.now()\n",
    "print()\n",
    "\n",
    "result_nodes = create_nx_datasets.main(indir, dataset, target, disease, network, 'missense', None)\n",
    "print('Coding: number of missense variants per node')\n",
    "\n",
    "outfile = f'{outdir}/{disease}_PPI_missense.pkl'\n",
    "print('Resulting dataset saved at:', outfile)\n",
    "print()\n",
    "\n",
    "with open(outfile, 'wb') as f:\n",
    "    pickle.dump(result_nodes, f)\n",
    "\n",
    "result_nodes_time = datetime.datetime.now()\n",
    "print('Processing time:', result_nodes_time - start_time)\n",
    "print('\\n\\n')"
   ]
  },
  {
   "cell_type": "markdown",
   "metadata": {},
   "source": [
    "### PET target - ND gene set - STRING network"
   ]
  },
  {
   "cell_type": "code",
   "execution_count": null,
   "metadata": {},
   "outputs": [],
   "source": [
    "dataset = 'ADNI'\n",
    "target = 'PET'\n",
    "disease = 'ND'\n",
    "network = 'original'\n",
    "\n",
    "indir = 'data'\n",
    "outdir = f'data/graph_datasets/{target}'\n",
    "print('Input directory:', indir)\n",
    "print('Output directory:', outdir)\n",
    "print()\n",
    "\n",
    "\n",
    "start_time = datetime.datetime.now()\n",
    "print()\n",
    "\n",
    "result_nodes = create_nx_datasets.main(indir, dataset, target, disease, network, 'missense', None)\n",
    "print('Coding: number of missense variants per node')\n",
    "\n",
    "outfile = f'{outdir}/{disease}_PPI_missense.pkl'\n",
    "print('Resulting dataset saved at:', outfile)\n",
    "print()\n",
    "\n",
    "with open(outfile, 'wb') as f:\n",
    "    pickle.dump(result_nodes, f)\n",
    "\n",
    "result_nodes_time = datetime.datetime.now()\n",
    "print('Processing time:', result_nodes_time - start_time)\n",
    "print('\\n\\n')"
   ]
  },
  {
   "cell_type": "markdown",
   "metadata": {},
   "source": [
    "### PET&DX target - AD gene set - STRING network"
   ]
  },
  {
   "cell_type": "code",
   "execution_count": null,
   "metadata": {},
   "outputs": [],
   "source": [
    "dataset = 'ADNI'\n",
    "target = 'PETandDX'\n",
    "disease = 'AD'\n",
    "network = 'original'\n",
    "\n",
    "indir = 'data'\n",
    "outdir = f'data/graph_datasets/{target}'\n",
    "print('Input directory:', indir)\n",
    "print('Output directory:', outdir)\n",
    "print()\n",
    "\n",
    "\n",
    "start_time = datetime.datetime.now()\n",
    "print()\n",
    "\n",
    "result_nodes = create_nx_datasets.main(indir, dataset, target, disease, network, 'missense', None)\n",
    "print('Coding: number of missense variants per node')\n",
    "\n",
    "outfile = f'{outdir}/{disease}_PPI_missense.pkl'\n",
    "print('Resulting dataset saved at:', outfile)\n",
    "print()\n",
    "\n",
    "with open(outfile, 'wb') as f:\n",
    "    pickle.dump(result_nodes, f)\n",
    "\n",
    "result_nodes_time = datetime.datetime.now()\n",
    "print('Processing time:', result_nodes_time - start_time)\n",
    "print('\\n\\n')"
   ]
  },
  {
   "cell_type": "markdown",
   "metadata": {},
   "source": [
    "### PET&DX target - ND gene set - STRING network"
   ]
  },
  {
   "cell_type": "code",
   "execution_count": null,
   "metadata": {},
   "outputs": [],
   "source": [
    "dataset = 'ADNI'\n",
    "target = 'PETandDX'\n",
    "disease = 'ND'\n",
    "network = 'original'\n",
    "\n",
    "indir = 'data'\n",
    "outdir = f'data/graph_datasets/{target}'\n",
    "print('Input directory:', indir)\n",
    "print('Output directory:', outdir)\n",
    "print()\n",
    "\n",
    "\n",
    "start_time = datetime.datetime.now()\n",
    "print()\n",
    "\n",
    "result_nodes = create_nx_datasets.main(indir, dataset, target, disease, network, 'missense', None)\n",
    "print('Coding: number of missense variants per node')\n",
    "\n",
    "outfile = f'{outdir}/{disease}_PPI_missense.pkl'\n",
    "print('Resulting dataset saved at:', outfile)\n",
    "print()\n",
    "\n",
    "with open(outfile, 'wb') as f:\n",
    "    pickle.dump(result_nodes, f)\n",
    "\n",
    "result_nodes_time = datetime.datetime.now()\n",
    "print('Processing time:', result_nodes_time - start_time)\n",
    "print('\\n\\n')"
   ]
  }
 ],
 "metadata": {
  "interpreter": {
   "hash": "5e0466fb38f8b8207bee76f1d5f01e5f82e3be8917a80d900a987709dfd81e7a"
  },
  "kernelspec": {
   "display_name": "Python 3.7.12 ('graphgym')",
   "language": "python",
   "name": "python3"
  },
  "language_info": {
   "codemirror_mode": {
    "name": "ipython",
    "version": 3
   },
   "file_extension": ".py",
   "mimetype": "text/x-python",
   "name": "python",
   "nbconvert_exporter": "python",
   "pygments_lexer": "ipython3",
   "version": "3.7.12"
  },
  "orig_nbformat": 4
 },
 "nbformat": 4,
 "nbformat_minor": 2
}
