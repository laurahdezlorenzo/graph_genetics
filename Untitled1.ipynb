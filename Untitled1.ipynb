{
 "cells": [
  {
   "cell_type": "code",
   "execution_count": 31,
   "id": "36c90746",
   "metadata": {},
   "outputs": [],
   "source": [
    "import matplotlib.pyplot as plt\n",
    "import seaborn as sns"
   ]
  },
  {
   "cell_type": "code",
   "execution_count": 56,
   "id": "1895ca02",
   "metadata": {},
   "outputs": [
    {
     "name": "stdout",
     "output_type": "stream",
     "text": [
      "9.0 4.0 6.0 13.0\n",
      "0.6875\n",
      "0.7647058823529411\n"
     ]
    },
    {
     "data": {
      "image/png": "[encoded data removed]",
      "text/plain": [
       "<Figure size 432x288 with 2 Axes>"
      ]
     },
     "metadata": {
      "needs_background": "light"
     },
     "output_type": "display_data"
    }
   ],
   "source": [
    "# acc, pre, rec, f1, auc = 0.643750, 0.782051, 0.603960, 0.681564, 0.651955\n",
    "# positives = 101\n",
    "# negatives = 59\n",
    "\n",
    "# # PET Baseline fold 1\n",
    "# acc, pre, rec, f1, auc = 0.657534, 0.625000, 0.975610, 0.761905, 0.727896\n",
    "# positives = 41\n",
    "# negatives = 32\n",
    "\n",
    "# PET&DX Baseline fold 1\n",
    "acc, pre, rec, f1, auc = 0.687500, 0.764706, 0.684211, 0.722222, 0.706478\n",
    "positives = 19\n",
    "negatives = 13\n",
    "\n",
    "TP = rec * (positives)\n",
    "FP = (-pre*TP + TP)/pre\n",
    "TN = negatives - FP\n",
    "FN = positives - TP\n",
    "\n",
    "TN = round(TN, 0)\n",
    "FN = round(FN, 0)\n",
    "TP = round(TP, 0)\n",
    "FP = round(FP, 0)\n",
    "\n",
    "print(TN, FP, FN, TP)\n",
    "\n",
    "print((TP+TN)/(TN+TP+FN+FP))\n",
    "print(TP/(TP+FP))\n",
    "\n",
    "data = [[TN, FP],[FN, TP]]\n",
    "cmn  = [[TN/negatives, FP/negatives],[FN/positives, TP/positives]]\n",
    "sns.heatmap(cmn, annot=True, vmin=0, vmax=1, cmap='Blues')\n",
    "plt.show()"
   ]
  },
  {
   "cell_type": "code",
   "execution_count": 58,
   "id": "1a6a4ffa",
   "metadata": {},
   "outputs": [
    {
     "name": "stdout",
     "output_type": "stream",
     "text": [
      "8.39083855470327 4.6091614452967296 5.6677 13.3323\n",
      "8.0 5.0 6.0 13.0\n",
      "0.65625\n",
      "0.7222222222222222\n"
     ]
    },
    {
     "data": {
      "image/png": "[encoded data removed]",
      "text/plain": [
       "<Figure size 432x288 with 2 Axes>"
      ]
     },
     "metadata": {
      "needs_background": "light"
     },
     "output_type": "display_data"
    }
   ],
   "source": [
    "# acc, pre, rec, f1, auc = 0.656200, 0.750100, 0.689800, 0.716100, 0.687400\n",
    "# positives = 101\n",
    "# negatives = 59\n",
    "\n",
    "# # # PET GNN fold 1\n",
    "# acc, pre, rec, f1, auc = 0.6849, 0.7420, 0.6748, 0.7065, 0.7236\n",
    "# positives = 41\n",
    "# negatives = 32\n",
    "\n",
    "# PET&DX GNN fold 1\n",
    "acc, pre, rec, f1, auc = 0.6771, 0.7431, 0.7017, 0.7208, 0.7551\n",
    "positives = 19\n",
    "negatives = 13\n",
    "\n",
    "TP = rec * (positives)\n",
    "FP = (-pre*TP + TP)/pre\n",
    "TN = negatives - FP\n",
    "FN = positives - TP\n",
    "\n",
    "print(TN, FP, FN, TP)\n",
    "\n",
    "TN = round(TN, 0)\n",
    "FN = round(FN, 0)\n",
    "TP = round(TP, 0)\n",
    "FP = round(FP, 0)\n",
    "\n",
    "print(TN, FP, FN, TP)\n",
    "\n",
    "print((TP+TN)/(TN+TP+FN+FP))\n",
    "print(TP/(TP+FP))\n",
    "\n",
    "data = [[TN, FP],[FN, TP]]\n",
    "cmn  = [[TN/negatives, FP/negatives],[FN/positives, TP/positives]]\n",
    "sns.heatmap(cmn, annot=True, vmin=0, vmax=1, cmap='Blues')\n",
    "plt.show()"
   ]
  }
 ],
 "metadata": {
  "kernelspec": {
   "display_name": "Python 3",
   "language": "python",
   "name": "python3"
  },
  "language_info": {
   "codemirror_mode": {
    "name": "ipython",
    "version": 3
   },
   "file_extension": ".py",
   "mimetype": "text/x-python",
   "name": "python",
   "nbconvert_exporter": "python",
   "pygments_lexer": "ipython3",
   "version": "3.7.12"
  }
 },
 "nbformat": 4,
 "nbformat_minor": 5
}
