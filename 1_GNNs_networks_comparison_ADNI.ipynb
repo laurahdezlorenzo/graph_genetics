{
 "cells": [
  {
   "cell_type": "markdown",
   "metadata": {},
   "source": [
    "### Comparision of GNNs working with different input networks\n",
    "This notebook compares the performance in graph classification using different graph datasets coming from different biological networks. "
   ]
  },
  {
   "cell_type": "code",
   "execution_count": 1,
   "metadata": {},
   "outputs": [],
   "source": [
    "import pandas as pd\n",
    "import networkx as nx\n",
    "import seaborn as sns\n",
    "import matplotlib.pyplot as plt\n",
    "import datetime, pickle, subprocess\n",
    "from networks import bio_networks, utils\n",
    "from create_datasets import create_nx_datasets, create_splits"
   ]
  },
  {
   "cell_type": "markdown",
   "metadata": {},
   "source": [
    "**1. Obtain genes of interest**\n",
    "\n",
    "Using DisGeNET to get Gene-Disease-Associations (GDAs) to Alzheimer's Disease (AD gene set) and other neurodegenerative diseases (ND)."
   ]
  },
  {
   "cell_type": "code",
   "execution_count": null,
   "metadata": {},
   "outputs": [],
   "source": [
    "subprocess.call (\"genes_of_interest/get_GDAs.R\")"
   ]
  },
  {
   "cell_type": "markdown",
   "metadata": {},
   "source": [
    "**2. Data preprocessing**\n",
    "\n",
    "Please refer to `data_preprocessing` subdirectory for this part.\n",
    "- 1. `make_BED_files.R` creates BED files with the genomic coordinates of the genes of interest\n",
    "- 2. `extract_and_annotate_missense_dataset.sh` are scripts for obtaining missense variants from the VCF files.\n",
    "- 3. `ADNIMERGE_processing.py` process ADNIMERGE table from ADNI dataset in order to obtain diagnostics information of each sample."
   ]
  },
  {
   "cell_type": "markdown",
   "metadata": {},
   "source": [
    "**3. Obtain biological networks**\n",
    "\n",
    "Obtain new biological networks for the AD gene set from different sources:\n",
    "1. STRING: Protein-Protein Interactions (PPIs)\n",
    "2. BioGRID: Protein-Protein Interactions (PPIs)\n",
    "3. Human Reference Interactome (HuRI): PPIs\n",
    "4. PPT-Ohmnet dataset from Stanford Network Analysis Project (SNAP): brain-specific PPIs\n",
    "5. GIANT: functional network, brain-specific"
   ]
  },
  {
   "cell_type": "code",
   "execution_count": 2,
   "metadata": {
    "scrolled": true
   },
   "outputs": [
    {
     "name": "stdout",
     "output_type": "stream",
     "text": [
      "STRING\n",
      "Unique genes from DisGeNET: 101\n",
      "Whole network: 59 nodes\n",
      "Biggest connected component: 52 nodes\n",
      "Percentage of lost genes/nodes: 7 (11.86%)\n",
      "\n",
      "BioGRID\n",
      "Whole network: 46 nodes\n",
      "Biggest connected component: 38 nodes\n",
      "Percentage of lost genes/nodes: 8 (17.39%)\n",
      "\n",
      "HuRI\n",
      "Whole network: 18 nodes\n",
      "Biggest connected component: 12 nodes\n",
      "Percentage of lost genes/nodes: 6 (33.33%)\n",
      "\n",
      "PPT-Ohmnet\n",
      "querying 1-102...done.\n",
      "Finished.\n",
      "Whole network: 45 nodes\n",
      "Biggest connected component: 29 nodes\n",
      "Percentage of lost genes/nodes: 16 (35.56%)\n",
      "\n",
      "GIANT\n",
      "querying 1-102...done.\n",
      "Finished.\n",
      "Whole network: 45 nodes\n",
      "Biggest connected component: 36 nodes\n",
      "Percentage of lost genes/nodes: 9 (20.0%)\n",
      "\n"
     ]
    }
   ],
   "source": [
    "# STRING (PPI)\n",
    "print('STRING')\n",
    "edgelist_string = bio_networks.get_string('data/AD_GDAs.tsv')\n",
    "print()\n",
    "\n",
    "# BioGRID (PPI)\n",
    "print('BioGRID')\n",
    "edgelist_biogrid = bio_networks.get_biogrid('data/AD_GDAs.txt')\n",
    "print()\n",
    "\n",
    "# HuRI (PPI) - HuRI interactions were downloaded from HuRI webpage and then parsed to obtain the corresponding edgelist.\n",
    "print('HuRI')\n",
    "edgelist_huri = bio_networks.get_huri('data/other_networks/HuRI_download_interactions_dec_16_2021_11_54_03.csv')\n",
    "print()\n",
    "\n",
    "# PPT-Ohmnet (PPI, brain-specific)\n",
    "print('PPT-Ohmnet')\n",
    "network_snap = bio_networks.get_snap('data/AD_GDAs.txt')\n",
    "print()\n",
    "\n",
    "# GIANT (functional network, brain-specific)\n",
    "print('GIANT')\n",
    "network_giant = bio_networks.get_giant('data/AD_GDAs.txt')\n",
    "print()"
   ]
  },
  {
   "cell_type": "markdown",
   "metadata": {},
   "source": [
    "**4. Create graph datasets**\n",
    "\n",
    "Create the correspoding graph-datasets for each newly obtained biological network."
   ]
  },
  {
   "cell_type": "code",
   "execution_count": 3,
   "metadata": {},
   "outputs": [
    {
     "name": "stdout",
     "output_type": "stream",
     "text": [
      "data/AD_STRING_PPI_edgelist.txt\n",
      "Network used: AD string\n",
      "# nodes = 59\n",
      "# edges = 115\n",
      "\n",
      "Dataset used: ADNI\n",
      "missense\n",
      "(59, 808)\n",
      "Creating samples graphs...\n",
      "Class: PET. Found 410 positive subjects out of 726\n",
      "Sample graph used: # nodes = 52 # edges = 111\n",
      "Density = 0.083710407239819 Diameter = 6\n",
      "Resulting dataset saved at: data/graph_datasets/PET/AD_PPI_string_missense.pkl\n",
      "\n",
      "Network used: AD biogrid\n",
      "# nodes = 46\n",
      "# edges = 62\n",
      "\n",
      "Dataset used: ADNI\n",
      "missense\n",
      "(46, 808)\n",
      "Creating samples graphs...\n",
      "Class: PET. Found 410 positive subjects out of 726\n",
      "Sample graph used: # nodes = 38 # edges = 57\n",
      "Density = 0.08108108108108109 Diameter = 5\n",
      "Resulting dataset saved at: data/graph_datasets/PET/AD_PPI_biogrid_missense.pkl\n",
      "\n",
      "Network used: AD huri\n",
      "# nodes = 18\n",
      "# edges = 16\n",
      "\n",
      "Dataset used: ADNI\n",
      "missense\n",
      "(18, 808)\n",
      "Creating samples graphs...\n",
      "Class: PET. Found 410 positive subjects out of 726\n",
      "Sample graph used: # nodes = 12 # edges = 13\n",
      "Density = 0.19696969696969696 Diameter = 6\n",
      "Resulting dataset saved at: data/graph_datasets/PET/AD_PPI_huri_missense.pkl\n",
      "\n",
      "Network used: AD snap_brain\n",
      "# nodes = 29\n",
      "# edges = 52\n",
      "\n",
      "Dataset used: ADNI\n",
      "missense\n",
      "(29, 808)\n",
      "Creating samples graphs...\n",
      "Class: PET. Found 410 positive subjects out of 726\n",
      "Sample graph used: # nodes = 29 # edges = 52\n",
      "Density = 0.12807881773399016 Diameter = 6\n",
      "Resulting dataset saved at: data/graph_datasets/PET/AD_PPI_snap_brain_missense.pkl\n",
      "\n",
      "Network used: AD giant_brain\n",
      "# nodes = 36\n",
      "# edges = 100\n",
      "\n",
      "Dataset used: ADNI\n",
      "missense\n",
      "(36, 808)\n",
      "Creating samples graphs...\n",
      "Class: PET. Found 410 positive subjects out of 726\n",
      "Sample graph used: # nodes = 36 # edges = 100\n",
      "Density = 0.15873015873015872 Diameter = 6\n",
      "Resulting dataset saved at: data/graph_datasets/PET/AD_PPI_giant_brain_missense.pkl\n",
      "\n",
      "data/AD_STRING_PPI_edgelist.txt\n",
      "Network used: AD string\n",
      "# nodes = 59\n",
      "# edges = 115\n",
      "\n",
      "Dataset used: ADNI\n",
      "missense\n",
      "(59, 808)\n",
      "Creating samples graphs...\n",
      "Class: PETandDX. Found 182 positive subjects out of 317\n",
      "Sample graph used: # nodes = 52 # edges = 111\n",
      "Density = 0.083710407239819 Diameter = 6\n",
      "Resulting dataset saved at: data/graph_datasets/PETandDX/AD_PPI_string_missense.pkl\n",
      "\n",
      "Network used: AD biogrid\n",
      "# nodes = 46\n",
      "# edges = 62\n",
      "\n",
      "Dataset used: ADNI\n",
      "missense\n",
      "(46, 808)\n",
      "Creating samples graphs...\n",
      "Class: PETandDX. Found 182 positive subjects out of 317\n",
      "Sample graph used: # nodes = 38 # edges = 57\n",
      "Density = 0.08108108108108109 Diameter = 5\n",
      "Resulting dataset saved at: data/graph_datasets/PETandDX/AD_PPI_biogrid_missense.pkl\n",
      "\n",
      "Network used: AD huri\n",
      "# nodes = 18\n",
      "# edges = 16\n",
      "\n",
      "Dataset used: ADNI\n",
      "missense\n",
      "(18, 808)\n",
      "Creating samples graphs...\n",
      "Class: PETandDX. Found 182 positive subjects out of 317\n",
      "Sample graph used: # nodes = 12 # edges = 13\n",
      "Density = 0.19696969696969696 Diameter = 6\n",
      "Resulting dataset saved at: data/graph_datasets/PETandDX/AD_PPI_huri_missense.pkl\n",
      "\n",
      "Network used: AD snap_brain\n",
      "# nodes = 29\n",
      "# edges = 52\n",
      "\n",
      "Dataset used: ADNI\n",
      "missense\n",
      "(29, 808)\n",
      "Creating samples graphs...\n",
      "Class: PETandDX. Found 182 positive subjects out of 317\n",
      "Sample graph used: # nodes = 29 # edges = 52\n",
      "Density = 0.12807881773399016 Diameter = 6\n",
      "Resulting dataset saved at: data/graph_datasets/PETandDX/AD_PPI_snap_brain_missense.pkl\n",
      "\n",
      "Network used: AD giant_brain\n",
      "# nodes = 36\n",
      "# edges = 100\n",
      "\n",
      "Dataset used: ADNI\n",
      "missense\n",
      "(36, 808)\n",
      "Creating samples graphs...\n",
      "Class: PETandDX. Found 182 positive subjects out of 317\n",
      "Sample graph used: # nodes = 36 # edges = 100\n",
      "Density = 0.15873015873015872 Diameter = 6\n",
      "Resulting dataset saved at: data/graph_datasets/PETandDX/AD_PPI_giant_brain_missense.pkl\n",
      "\n"
     ]
    }
   ],
   "source": [
    "dataset = 'ADNI'\n",
    "targets = ['PET', 'PETandDX']\n",
    "networks = ['string', 'biogrid', 'huri', 'snap_brain', 'giant_brain']\n",
    "\n",
    "for target in targets:\n",
    "    for network in networks:\n",
    "\n",
    "        outdir = f'data/graph_datasets/{target}'\n",
    "\n",
    "        result_nodes = create_nx_datasets.main('data', dataset, target, 'AD', network, 'missense', None)\n",
    "        outfile = f'{outdir}/AD_PPI_{network}_missense.pkl'\n",
    "        print('Resulting dataset saved at:', outfile)\n",
    "        print()\n",
    "\n",
    "        with open(outfile, 'wb') as f:\n",
    "            pickle.dump(result_nodes, f)"
   ]
  },
  {
   "cell_type": "markdown",
   "metadata": {},
   "source": [
    "**5. Graph classification with GNNs**\n",
    "\n",
    "We then evaluated and tested different GNNs in the framework called [GraphGym](https://github.com/snap-stanford/GraphGym) (You *et al.*, 2020).\n",
    "\n",
    "Configuration and grid files employed are in the subdirectory [graphgym_files](graphgym_files).\n",
    "\n",
    "Summarized results obtained by GraphGym and other models are in **COMPLETE**\n",
    "\n",
    "We run GraphGym 10 times, with 10 different splits generated by 10-Fold Stratified Cross-Validation (see below)."
   ]
  },
  {
   "cell_type": "code",
   "execution_count": null,
   "metadata": {},
   "outputs": [],
   "source": [
    "# Create splits for using it in GraphGym and non-GNN models\n",
    "# Splits are obtained through 10-Fold Stratified Cross Validation\n",
    "\n",
    "create_splits.create_folds_stratified_cv('PET', 10)\n",
    "create_splits.create_folds_stratified_cv('PETandDX', 10)"
   ]
  },
  {
   "cell_type": "markdown",
   "metadata": {},
   "source": [
    "#### 6. Analyze results\n",
    "We obtained best GNN configurations in each split. Next, we selected the common configuration in all splits and obtained average and standard deviation over the 10 splits of several performance metrics (Accuracy, Precision, Recall, F1, AUC).\n",
    "\n",
    "The following cells produce different Figures regarding performance metrics and compute their p-values trough a 1-sample t-test against the baseline model (Logistic Regression only with APOE gene as input). Please refer to **this notebook** COMPLETE! to see how to compute the baseline model."
   ]
  },
  {
   "cell_type": "code",
   "execution_count": 2,
   "metadata": {},
   "outputs": [
    {
     "data": {
      "image/png": "[encoded data removed]",
      "text/plain": [
       "<Figure size 576x576 with 1 Axes>"
      ]
     },
     "metadata": {
      "needs_background": "light"
     },
     "output_type": "display_data"
    }
   ],
   "source": [
    "pet_GNN   = pd.read_csv('results/2022_03_networks_PET.csv', index_col='fold')\n",
    "pet_bas   = pd.read_csv('results/2022_03_baseline_models_PET.csv',  index_col='fold')\n",
    "pet_all   = pd.concat([pet_GNN, pet_bas])\n",
    "pet_all.loc[pet_all[\"model\"] == \"Logistic Regression - Only APOE\", \"dataset\"] = 'Only APOE'\n",
    "pet_all.loc[pet_all[\"model\"] == \"Logistic Regression - Only APOE\", \"model\"] = 'Logistic Regression'\n",
    "utils.boxplot_comparision_others('PET', pet_all, 'auc', r\"($\\bf{A}$) PET\")"
   ]
  },
  {
   "cell_type": "code",
   "execution_count": 11,
   "metadata": {},
   "outputs": [
    {
     "name": "stdout",
     "output_type": "stream",
     "text": [
      "{'AD PPT-Ohmnet': 0.10071607071645536, 'AD STRING': 0.12241840380211852, 'AD HuRI': 0.17181326452204604, 'AD BioGRID': 0.21595301121112814, 'AD GIANT': 0.2485419526815798, 'Only APOE': 0.5}\n"
     ]
    },
    {
     "data": {
      "text/html": [
       "<div>\n",
       "<style scoped>\n",
       "    .dataframe tbody tr th:only-of-type {\n",
       "        vertical-align: middle;\n",
       "    }\n",
       "\n",
       "    .dataframe tbody tr th {\n",
       "        vertical-align: top;\n",
       "    }\n",
       "\n",
       "    .dataframe thead th {\n",
       "        text-align: right;\n",
       "    }\n",
       "</style>\n",
       "<table border=\"1\" class=\"dataframe\">\n",
       "  <thead>\n",
       "    <tr style=\"text-align: right;\">\n",
       "      <th></th>\n",
       "      <th>target</th>\n",
       "      <th>dataset</th>\n",
       "      <th>model</th>\n",
       "      <th>Unnamed: 9</th>\n",
       "      <th>auc_mean</th>\n",
       "      <th>auc_std</th>\n",
       "    </tr>\n",
       "  </thead>\n",
       "  <tbody>\n",
       "    <tr>\n",
       "      <th>0</th>\n",
       "      <td>PET</td>\n",
       "      <td>Only APOE</td>\n",
       "      <td>Logistic Regression</td>\n",
       "      <td>[[8, 24], [1, 40]]</td>\n",
       "      <td>0.640551</td>\n",
       "      <td>0.069063</td>\n",
       "    </tr>\n",
       "    <tr>\n",
       "      <th>10</th>\n",
       "      <td>PET</td>\n",
       "      <td>AD BioGRID</td>\n",
       "      <td>GNN GraphGym</td>\n",
       "      <td>NaN</td>\n",
       "      <td>0.664770</td>\n",
       "      <td>0.065611</td>\n",
       "    </tr>\n",
       "    <tr>\n",
       "      <th>20</th>\n",
       "      <td>PET</td>\n",
       "      <td>AD GIANT</td>\n",
       "      <td>GNN GraphGym</td>\n",
       "      <td>NaN</td>\n",
       "      <td>0.663490</td>\n",
       "      <td>0.078633</td>\n",
       "    </tr>\n",
       "    <tr>\n",
       "      <th>30</th>\n",
       "      <td>PET</td>\n",
       "      <td>AD HuRI</td>\n",
       "      <td>GNN GraphGym</td>\n",
       "      <td>NaN</td>\n",
       "      <td>0.669180</td>\n",
       "      <td>0.062402</td>\n",
       "    </tr>\n",
       "    <tr>\n",
       "      <th>40</th>\n",
       "      <td>PET</td>\n",
       "      <td>AD PPT-Ohmnet</td>\n",
       "      <td>GNN GraphGym</td>\n",
       "      <td>NaN</td>\n",
       "      <td>0.680130</td>\n",
       "      <td>0.064342</td>\n",
       "    </tr>\n",
       "    <tr>\n",
       "      <th>50</th>\n",
       "      <td>PET</td>\n",
       "      <td>AD STRING</td>\n",
       "      <td>GNN GraphGym</td>\n",
       "      <td>NaN</td>\n",
       "      <td>0.676260</td>\n",
       "      <td>0.063654</td>\n",
       "    </tr>\n",
       "  </tbody>\n",
       "</table>\n",
       "</div>"
      ],
      "text/plain": [
       "   target        dataset                model          Unnamed: 9  auc_mean  \\\n",
       "0     PET      Only APOE  Logistic Regression  [[8, 24], [1, 40]]  0.640551   \n",
       "10    PET     AD BioGRID         GNN GraphGym                 NaN  0.664770   \n",
       "20    PET       AD GIANT         GNN GraphGym                 NaN  0.663490   \n",
       "30    PET        AD HuRI         GNN GraphGym                 NaN  0.669180   \n",
       "40    PET  AD PPT-Ohmnet         GNN GraphGym                 NaN  0.680130   \n",
       "50    PET      AD STRING         GNN GraphGym                 NaN  0.676260   \n",
       "\n",
       "     auc_std  \n",
       "0   0.069063  \n",
       "10  0.065611  \n",
       "20  0.078633  \n",
       "30  0.062402  \n",
       "40  0.064342  \n",
       "50  0.063654  "
      ]
     },
     "execution_count": 11,
     "metadata": {},
     "output_type": "execute_result"
    }
   ],
   "source": [
    "pvalues_pet = utils.statistics(pet_results)\n",
    "print(pvalues_pet)\n",
    "\n",
    "df = pet_results.drop(columns =['fold', 'acc', 'pre', 'rec', 'f1'])\n",
    "df['auc_mean'] = df.groupby(['dataset', 'model', 'target'])['auc'].transform('mean')\n",
    "df['auc_std'] = df.groupby(['dataset', 'model'])['auc'].transform('std')\n",
    "df = df.drop(columns=['auc'])\n",
    "df.iloc[[0, 10, 20, 30, 40, 50]]"
   ]
  },
  {
   "cell_type": "code",
   "execution_count": 3,
   "metadata": {},
   "outputs": [
    {
     "data": {
      "image/png": "[encoded data removed]",
      "text/plain": [
       "<Figure size 576x576 with 1 Axes>"
      ]
     },
     "metadata": {
      "needs_background": "light"
     },
     "output_type": "display_data"
    }
   ],
   "source": [
    "petdx_GNN   = pd.read_csv('results/2022_03_networks_PETandDX.csv', index_col='fold')\n",
    "petdx_bas   = pd.read_csv('results/2022_03_baseline_models_PETandDX.csv',  index_col='fold')\n",
    "petdx_all   = pd.concat([petdx_GNN, petdx_bas])\n",
    "petdx_all.loc[petdx_all[\"model\"] == \"Logistic Regression - Only APOE\", \"dataset\"] = 'Only APOE'\n",
    "petdx_all.loc[petdx_all[\"model\"] == \"Logistic Regression - Only APOE\", \"model\"] = 'Logistic Regression'\n",
    "utils.boxplot_comparision_others('PETandDX', petdx_all, 'auc', r\"($\\bf{B}$) PET&DX\")"
   ]
  },
  {
   "cell_type": "code",
   "execution_count": 9,
   "metadata": {},
   "outputs": [
    {
     "name": "stdout",
     "output_type": "stream",
     "text": [
      "{'AD PPT-Ohmnet': 0.051717255609973756, 'AD STRING': 0.05469058028620656, 'AD BioGRID': 0.06926328684824597, 'AD HuRI': 0.10254157203420601, 'AD GIANT': 0.3604574252913516, 'Only APOE': 0.5}\n"
     ]
    },
    {
     "data": {
      "text/html": [
       "<div>\n",
       "<style scoped>\n",
       "    .dataframe tbody tr th:only-of-type {\n",
       "        vertical-align: middle;\n",
       "    }\n",
       "\n",
       "    .dataframe tbody tr th {\n",
       "        vertical-align: top;\n",
       "    }\n",
       "\n",
       "    .dataframe thead th {\n",
       "        text-align: right;\n",
       "    }\n",
       "</style>\n",
       "<table border=\"1\" class=\"dataframe\">\n",
       "  <thead>\n",
       "    <tr style=\"text-align: right;\">\n",
       "      <th></th>\n",
       "      <th>target</th>\n",
       "      <th>dataset</th>\n",
       "      <th>model</th>\n",
       "      <th>auc_mean</th>\n",
       "      <th>auc_std</th>\n",
       "    </tr>\n",
       "  </thead>\n",
       "  <tbody>\n",
       "    <tr>\n",
       "      <th>0</th>\n",
       "      <td>PETandDX</td>\n",
       "      <td>Only APOE</td>\n",
       "      <td>Logistic Regression</td>\n",
       "      <td>0.690087</td>\n",
       "      <td>0.097874</td>\n",
       "    </tr>\n",
       "    <tr>\n",
       "      <th>10</th>\n",
       "      <td>PET&amp;DX</td>\n",
       "      <td>AD BioGRID</td>\n",
       "      <td>GNN GraphGym</td>\n",
       "      <td>0.752640</td>\n",
       "      <td>0.081888</td>\n",
       "    </tr>\n",
       "    <tr>\n",
       "      <th>20</th>\n",
       "      <td>PET&amp;DX</td>\n",
       "      <td>AD GIANT</td>\n",
       "      <td>GNN GraphGym</td>\n",
       "      <td>0.703470</td>\n",
       "      <td>0.063408</td>\n",
       "    </tr>\n",
       "    <tr>\n",
       "      <th>30</th>\n",
       "      <td>PET&amp;DX</td>\n",
       "      <td>AD HuRI</td>\n",
       "      <td>GNN GraphGym</td>\n",
       "      <td>0.739690</td>\n",
       "      <td>0.068216</td>\n",
       "    </tr>\n",
       "    <tr>\n",
       "      <th>40</th>\n",
       "      <td>PET&amp;DX</td>\n",
       "      <td>AD PPT-Ohmnet</td>\n",
       "      <td>GNN GraphGym</td>\n",
       "      <td>0.752060</td>\n",
       "      <td>0.058927</td>\n",
       "    </tr>\n",
       "    <tr>\n",
       "      <th>50</th>\n",
       "      <td>PET&amp;DX</td>\n",
       "      <td>AD STRING</td>\n",
       "      <td>GNN GraphGym</td>\n",
       "      <td>0.750230</td>\n",
       "      <td>0.056311</td>\n",
       "    </tr>\n",
       "  </tbody>\n",
       "</table>\n",
       "</div>"
      ],
      "text/plain": [
       "      target        dataset                model  auc_mean   auc_std\n",
       "0   PETandDX      Only APOE  Logistic Regression  0.690087  0.097874\n",
       "10    PET&DX     AD BioGRID         GNN GraphGym  0.752640  0.081888\n",
       "20    PET&DX       AD GIANT         GNN GraphGym  0.703470  0.063408\n",
       "30    PET&DX        AD HuRI         GNN GraphGym  0.739690  0.068216\n",
       "40    PET&DX  AD PPT-Ohmnet         GNN GraphGym  0.752060  0.058927\n",
       "50    PET&DX      AD STRING         GNN GraphGym  0.750230  0.056311"
      ]
     },
     "execution_count": 9,
     "metadata": {},
     "output_type": "execute_result"
    }
   ],
   "source": [
    "pvalues_petdx = utils.statistics(petdx_results)\n",
    "print(pvalues_petdx)\n",
    "\n",
    "df = petdx_results.drop(columns =['fold', 'acc', 'pre', 'rec', 'f1'])\n",
    "df['auc_mean'] = df.groupby(['dataset', 'model', 'target'])['auc'].transform('mean')\n",
    "df['auc_std'] = df.groupby(['dataset', 'model'])['auc'].transform('std')\n",
    "df = df.drop(columns=['auc'])\n",
    "df.iloc[[0, 10, 20, 30, 40, 50]]"
   ]
  }
 ],
 "metadata": {
  "interpreter": {
   "hash": "5e0466fb38f8b8207bee76f1d5f01e5f82e3be8917a80d900a987709dfd81e7a"
  },
  "kernelspec": {
   "display_name": "Python 3",
   "language": "python",
   "name": "python3"
  },
  "language_info": {
   "codemirror_mode": {
    "name": "ipython",
    "version": 3
   },
   "file_extension": ".py",
   "mimetype": "text/x-python",
   "name": "python",
   "nbconvert_exporter": "python",
   "pygments_lexer": "ipython3",
   "version": "3.7.10"
  }
 },
 "nbformat": 4,
 "nbformat_minor": 2
}
