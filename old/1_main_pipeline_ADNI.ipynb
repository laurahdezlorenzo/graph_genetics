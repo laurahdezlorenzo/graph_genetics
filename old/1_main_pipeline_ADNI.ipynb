{
 "cells": [
  {
   "cell_type": "markdown",
   "metadata": {},
   "source": [
    "#### Main methodology results\n",
    "\n",
    "*Disclaimer*: please note that many parts of this code require the preprocessed data from ADNI (both genetic and diagnostic related) as input. This data has not been uploaded to the repository for privacy reasons."
   ]
  },
  {
   "cell_type": "code",
   "execution_count": null,
   "metadata": {},
   "outputs": [],
   "source": [
    "\n",
    "import networks.get_PPI_STRING as string\n",
    "import create_datasets.create_nx_datasets\n",
    "import networkx as nx\n",
    "import datetime, pickle, subprocess\n"
   ]
  },
  {
   "cell_type": "markdown",
   "metadata": {},
   "source": [
    "**1. Obtain genes of interest**\n",
    "\n",
    "Using DisGeNET to get Gene-Disease-Associations (GDAs) to Alzheimer's Disease (AD gene set) and other neurodegenerative diseases (ND)."
   ]
  },
  {
   "cell_type": "code",
   "execution_count": null,
   "metadata": {},
   "outputs": [],
   "source": [
    "subprocess.call (\"genes_of_interest/get_GDAs.R\")"
   ]
  },
  {
   "cell_type": "markdown",
   "metadata": {},
   "source": [
    "**2. Obtain biological networks**\n",
    "\n",
    "Using genes of interst obtained from DisGeNET, obtain PPI between them from STRING."
   ]
  },
  {
   "cell_type": "code",
   "execution_count": null,
   "metadata": {},
   "outputs": [],
   "source": [
    "species = 9606\n",
    "identity = 'lhlorenzo'\n",
    "\n",
    "diseases = ['AD', 'ND']\n",
    "\n",
    "for disease in diseases:\n",
    "\n",
    "    genes_of_interest = string.load_GDAs(f'data/{disease}_GDAs.tsv')\n",
    "    string_ids = string.get_string_ids(genes_of_interest, species, identity)\n",
    "    string.get_PPI_network(string_ids, species, identity, disease)"
   ]
  },
  {
   "cell_type": "markdown",
   "metadata": {},
   "source": [
    "**3. Data preprocessing**\n",
    "\n",
    "Please refer to `data_preprocessing` subdirectory for this part.\n",
    "- 1. `make_BED_files.R` creates BED files with the genomic coordinates of the genes of interest\n",
    "- 2. `extract_and_annotate_missense_dataset.sh` are scripts for obtaining missense variants from the VCF files.\n",
    "- 3. `ADNIMERGE_processing.py` process ADNIMERGE table from ADNI dataset in order to obtain diagnostics information of each sample."
   ]
  },
  {
   "cell_type": "markdown",
   "metadata": {},
   "source": [
    "**4. Create graph datasets**\n",
    "\n",
    "Create graph datasets (one graph representing each patient) for different targets with ADNI dataset."
   ]
  },
  {
   "cell_type": "code",
   "execution_count": null,
   "metadata": {},
   "outputs": [],
   "source": [
    "dataset = 'ADNI'\n",
    "targets = ['PET', 'PETandDX']\n",
    "diseases = ['AD', 'ND']\n",
    "network = 'original'\n",
    "\n",
    "for target in targets:\n",
    "\n",
    "    for disease in diseases:\n",
    "\n",
    "        indir = 'data'\n",
    "        outdir = f'data/graph_datasets/{target}'\n",
    "        print('Input directory:', indir)\n",
    "        print('Output directory:', outdir)\n",
    "        print()\n",
    "\n",
    "        start_time = datetime.datetime.now()\n",
    "        print()\n",
    "\n",
    "        result_nodes = create_datasets.create_nx_datasets.main(indir, dataset, target, disease, network, 'missense', None)\n",
    "        print('Coding: number of missense variants per node')\n",
    "\n",
    "        outfile = f'{outdir}/{disease}_PPI_missense.pkl'\n",
    "        print('Resulting dataset saved at:', outfile)\n",
    "        print()\n",
    "\n",
    "        with open(outfile, 'wb') as f:\n",
    "            pickle.dump(result_nodes, f)\n",
    "\n",
    "        result_nodes_time = datetime.datetime.now()\n",
    "        print('Processing time:', result_nodes_time - start_time)\n",
    "        print('\\n\\n')"
   ]
  },
  {
   "cell_type": "markdown",
   "metadata": {},
   "source": [
    "Create graph datasets without APOE for different targets with ADNI dataset."
   ]
  },
  {
   "cell_type": "code",
   "execution_count": null,
   "metadata": {},
   "outputs": [],
   "source": [
    "dataset = 'ADNI'\n",
    "targets = ['PET', 'PETandDX']\n",
    "diseases = ['AD' 'ND']\n",
    "network = 'noAPOE'\n",
    "\n",
    "for target in targets:\n",
    "\n",
    "    for disease in diseases:\n",
    "\n",
    "        indir = 'data'\n",
    "        outdir = f'data/graph_datasets/{target}'\n",
    "        print('Input directory:', indir)\n",
    "        print('Output directory:', outdir)\n",
    "        print()\n",
    "\n",
    "        start_time = datetime.datetime.now()\n",
    "        print()\n",
    "\n",
    "        result_nodes = create_datasets.create_nx_datasets.main(indir, dataset, target, disease, network, 'missense', None)\n",
    "        print('Coding: number of missense variants per node')\n",
    "\n",
    "        outfile = f'{outdir}/{disease}_PPI_noAPOE_missense.pkl'\n",
    "        print('Resulting dataset saved at:', outfile)\n",
    "        print()\n",
    "\n",
    "        with open(outfile, 'wb') as f:\n",
    "            pickle.dump(result_nodes, f)\n",
    "\n",
    "        result_nodes_time = datetime.datetime.now()\n",
    "        print('Processing time:', result_nodes_time - start_time)\n",
    "        print('\\n\\n')"
   ]
  },
  {
   "cell_type": "markdown",
   "metadata": {},
   "source": [
    "**4. Graph classification with GNNs**\n",
    "\n",
    "We then evaluated and tested different GNNs in the framework called [GraphGym](https://github.com/snap-stanford/GraphGym) (You *et al.*, 2020).\n",
    "\n",
    "Configuration and grid files employed are in the subdirectory [graphgym_files](graphgym_files).\n",
    "\n",
    "Summarized results obtained by GraphGym and other models are in [results/GNN_comparison](results/GNN_comparison)"
   ]
  }
 ],
 "metadata": {
  "interpreter": {
   "hash": "5e0466fb38f8b8207bee76f1d5f01e5f82e3be8917a80d900a987709dfd81e7a"
  },
  "kernelspec": {
   "display_name": "Python 3",
   "language": "python",
   "name": "python3"
  },
  "language_info": {
   "codemirror_mode": {
    "name": "ipython",
    "version": 3
   },
   "file_extension": ".py",
   "mimetype": "text/x-python",
   "name": "python",
   "nbconvert_exporter": "python",
   "pygments_lexer": "ipython3",
   "version": "3.7.10"
  }
 },
 "nbformat": 4,
 "nbformat_minor": 2
}
