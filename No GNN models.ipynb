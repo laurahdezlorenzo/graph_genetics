{
 "cells": [
  {
   "cell_type": "code",
   "execution_count": 1,
   "metadata": {},
   "outputs": [],
   "source": [
    "import pandas as pd\n",
    "import pickle as pkl\n",
    "import numpy as np\n",
    "from sklearn import preprocessing\n",
    "from sklearn.linear_model import LogisticRegression\n",
    "from sklearn import metrics"
   ]
  },
  {
   "cell_type": "code",
   "execution_count": 3,
   "metadata": {},
   "outputs": [],
   "source": [
    "from machine_learning_models import create_class_ADNI, create_class_LOAD, main"
   ]
  },
  {
   "cell_type": "markdown",
   "metadata": {},
   "source": [
    "### ADNI dataset\n",
    "#### PET target"
   ]
  },
  {
   "cell_type": "code",
   "execution_count": 4,
   "metadata": {},
   "outputs": [
    {
     "name": "stdout",
     "output_type": "stream",
     "text": [
      "Class distribution:\n",
      "1.0    410\n",
      "0.0    316\n",
      "Name: y, dtype: int64\n",
      "\n",
      "Classification with PET - Split 10.0% - GridSearchCV 5\n",
      "     ADAM10  APOC1  APOE  BACE1  BAX  BDNF  BIN1  CRH  ENO1  EPHA1  ...  \\\n",
      "0       0.0    0.0   2.0    1.0  0.0   0.0   0.0  0.0   0.0    2.0  ...   \n",
      "1       0.0    0.0   2.0    1.0  0.0   0.0   0.0  0.0   0.0    3.0  ...   \n",
      "2       0.0    0.0   1.0    1.0  0.0   0.0   0.0  0.0   0.0    2.0  ...   \n",
      "3       0.0    0.0   2.0    1.0  0.0   1.0   0.0  0.0   0.0    2.0  ...   \n",
      "4       0.0    0.0   2.0    1.0  0.0   1.0   0.0  0.0   0.0    3.0  ...   \n",
      "..      ...    ...   ...    ...  ...   ...   ...  ...   ...    ...  ...   \n",
      "721     0.0    0.0   2.0    1.0  0.0   0.0   0.0  0.0   0.0    2.0  ...   \n",
      "722     0.0    0.0   2.0    1.0  0.0   1.0   0.0  0.0   0.0    2.0  ...   \n",
      "723     0.0    0.0   2.0    1.0  0.0   0.0   0.0  0.0   0.0    2.0  ...   \n",
      "724     0.0    0.0   1.0    1.0  0.0   0.0   0.0  0.0   0.0    2.0  ...   \n",
      "725     0.0    0.0   1.0    1.0  0.0   0.0   0.0  0.0   0.0    3.0  ...   \n",
      "\n",
      "     PSEN2  IDE  IGF1R  ESR1  BCL2  NOS3  A2M   TF  MAOB  WWOX  \n",
      "0      0.0  0.0    0.0   0.0   0.0   0.0  0.0  0.0   0.0   0.0  \n",
      "1      0.0  0.0    0.0   0.0   0.0   0.0  0.0  0.0   0.0   0.0  \n",
      "2      0.0  0.0    0.0   0.0   0.0   0.0  0.0  0.0   0.0   0.0  \n",
      "3      0.0  0.0    0.0   0.0   0.0   0.0  0.0  0.0   0.0   0.0  \n",
      "4      0.0  0.0    0.0   0.0   0.0   0.0  0.0  0.0   0.0   0.0  \n",
      "..     ...  ...    ...   ...   ...   ...  ...  ...   ...   ...  \n",
      "721    0.0  0.0    0.0   0.0   0.0   0.0  0.0  0.0   0.0   0.0  \n",
      "722    0.0  0.0    0.0   0.0   0.0   0.0  0.0  0.0   0.0   0.0  \n",
      "723    0.0  0.0    0.0   0.0   0.0   0.0  0.0  0.0   0.0   0.0  \n",
      "724    0.0  0.0    0.0   0.0   0.0   0.0  0.0  0.0   0.0   0.0  \n",
      "725    0.0  0.0    0.0   0.0   0.0   0.0  0.0  0.0   0.0   0.0  \n",
      "\n",
      "[726 rows x 51 columns]\n",
      "\n",
      "Train set\n",
      "1.0    369\n",
      "0.0    284\n",
      "Name: y, dtype: int64\n",
      "Test set\n",
      "1.0    41\n",
      "0.0    32\n",
      "Name: y, dtype: int64\n",
      "\n",
      "Grid Search CV - Random Forest\n",
      "The best parameters are {'bootstrap': True, 'max_features': 'sqrt', 'n_estimators': 400} with a score of 0.62\n",
      "\n",
      "Grid Search CV - SVM linear\n",
      "[{'kernel': ['linear'], 'C': [0.01, 0.1, 1, 10, 100, 1000]}]\n",
      "The best parameters are {'C': 0.1, 'kernel': 'linear'} with a score of 0.64\n",
      "\n",
      "Grid Search CV - SVM rbf\n",
      "[{'kernel': ['rbf'], 'C': [0.01, 0.1, 1, 10, 100, 1000], 'gamma': [0.001, 0.01, 0.1, 1]}]\n",
      "The best parameters are {'C': 100, 'gamma': 0.001, 'kernel': 'rbf'} with a score of 0.62\n",
      "\n",
      "Base model - LogReg\n",
      "No-GNN models PET:\n",
      "           0         1         2         3         4                     5  \\\n",
      "0  0.643836  0.659574  0.756098  0.704545  0.628811  [[16, 16], [10, 31]]   \n",
      "1  0.630137  0.645833  0.756098  0.696629  0.663872  [[15, 17], [10, 31]]   \n",
      "2  0.671233  0.680851  0.780488  0.727273  0.668445   [[17, 15], [9, 32]]   \n",
      "3  0.657534  0.673913  0.756098  0.712644  0.621189  [[17, 15], [10, 31]]   \n",
      "\n",
      "      6              7  \n",
      "0  BEST  Random Forest  \n",
      "1  BEST     SVM linear  \n",
      "2  BEST        SVM rbf  \n",
      "3  BASE         LogReg  \n"
     ]
    }
   ],
   "source": [
    "for i in range(1, 4):\n",
    "\n",
    "    result_ad = main('ADNI', 'AD', 'PPI', 'PET', 'data/table_datasets', f'results/results_missense_PET_rep{i}')\n",
    "    result_nd = main('ADNI', 'ND', 'PPI', 'PET', 'data/table_datasets', f'results/results_missense_PET_rep{i}')\n",
    "\n",
    "    result_ad_noAPOE = main('ADNI_noAPOE', 'AD', 'PPI', 'PET', 'data/table_datasets', f'results/results_missense_PET_noAPOE_rep{i}')\n",
    "    result_nd_noAPOE = main('ADNI_noAPOE', 'ND', 'PPI', 'PET', 'data/table_datasets', f'results/results_missense_PET_noAPOE_rep{i}')"
   ]
  },
  {
   "cell_type": "markdown",
   "metadata": {},
   "source": [
    "#### PET&DX target"
   ]
  },
  {
   "cell_type": "code",
   "execution_count": null,
   "metadata": {},
   "outputs": [],
   "source": [
    "for i in range(1, 4):\n",
    "\n",
    "    result_ad = main('ADNI', 'AD', 'PPI', 'PETandDX', 'data/table_datasets', f'results/results_missense_PETandDX_rep{i}')\n",
    "    result_nd = main('ADNI', 'ND', 'PPI', 'PETandDX', 'data/table_datasets', f'results/results_missense_PETandDX_rep{i}')\n",
    "\n",
    "    result_ad_noAPOE = main('ADNI_noAPOE', 'AD', 'PPI', 'PETandDX', 'data/table_datasets', f'results/results_missense_PETandDX_noAPOE_rep{i}')\n",
    "    result_nd_noAPOE = main('ADNI_noAPOE', 'ND', 'PPI', 'PETandDX', 'data/table_datasets', f'results/results_missense_PETandDX_noAPOE_rep{i}')"
   ]
  }
 ],
 "metadata": {
  "interpreter": {
   "hash": "5e0466fb38f8b8207bee76f1d5f01e5f82e3be8917a80d900a987709dfd81e7a"
  },
  "kernelspec": {
   "display_name": "Python 3.7.10 ('graphgym')",
   "language": "python",
   "name": "python3"
  },
  "language_info": {
   "codemirror_mode": {
    "name": "ipython",
    "version": 3
   },
   "file_extension": ".py",
   "mimetype": "text/x-python",
   "name": "python",
   "nbconvert_exporter": "python",
   "pygments_lexer": "ipython3",
   "version": "3.7.10"
  },
  "orig_nbformat": 4
 },
 "nbformat": 4,
 "nbformat_minor": 2
}
