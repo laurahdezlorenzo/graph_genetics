{
 "cells": [
  {
   "cell_type": "code",
   "execution_count": 1,
   "metadata": {},
   "outputs": [],
   "source": [
    "import pandas as pd\n",
    "import pickle as pkl\n",
    "import numpy as np\n",
    "from sklearn import preprocessing, metrics\n",
    "from sklearn.linear_model import LogisticRegression\n",
    "from ml_models.machine_learning_models import create_class_ADNI, create_class_LOAD, main"
   ]
  },
  {
   "cell_type": "markdown",
   "metadata": {},
   "source": [
    "### ADNI dataset\n",
    "#### PET target"
   ]
  },
  {
   "cell_type": "code",
   "execution_count": null,
   "metadata": {},
   "outputs": [],
   "source": [
    "for i in range(1, 4):\n",
    "\n",
    "    result_ad = main('ADNI', 'AD', 'PPI', 'PET', 'data/table_datasets', f'results/results_missense_PET_rep{i}')\n",
    "    result_nd = main('ADNI', 'ND', 'PPI', 'PET', 'data/table_datasets', f'results/results_missense_PET_rep{i}')\n",
    "\n",
    "    result_ad_noAPOE = main('ADNI_noAPOE', 'AD', 'PPI', 'PET', 'data/table_datasets', f'results/results_missense_PET_noAPOE_rep{i}')\n",
    "    result_nd_noAPOE = main('ADNI_noAPOE', 'ND', 'PPI', 'PET', 'data/table_datasets', f'results/results_missense_PET_noAPOE_rep{i}')"
   ]
  },
  {
   "cell_type": "markdown",
   "metadata": {},
   "source": [
    "#### PET&DX target"
   ]
  },
  {
   "cell_type": "code",
   "execution_count": null,
   "metadata": {},
   "outputs": [],
   "source": [
    "for i in range(1, 4):\n",
    "\n",
    "    result_ad = main('ADNI', 'AD', 'PPI', 'PETandDX', 'data/table_datasets', f'results/results_missense_PETandDX_rep{i}')\n",
    "    result_nd = main('ADNI', 'ND', 'PPI', 'PETandDX', 'data/table_datasets', f'results/results_missense_PETandDX_rep{i}')\n",
    "\n",
    "    result_ad_noAPOE = main('ADNI_noAPOE', 'AD', 'PPI', 'PETandDX', 'data/table_datasets', f'results/results_missense_PETandDX_noAPOE_rep{i}')\n",
    "    result_nd_noAPOE = main('ADNI_noAPOE', 'ND', 'PPI', 'PETandDX', 'data/table_datasets', f'results/results_missense_PETandDX_noAPOE_rep{i}')"
   ]
  }
 ],
 "metadata": {
  "interpreter": {
   "hash": "5e0466fb38f8b8207bee76f1d5f01e5f82e3be8917a80d900a987709dfd81e7a"
  },
  "kernelspec": {
   "display_name": "Python 3.7.10 ('graphgym')",
   "language": "python",
   "name": "python3"
  },
  "language_info": {
   "codemirror_mode": {
    "name": "ipython",
    "version": 3
   },
   "file_extension": ".py",
   "mimetype": "text/x-python",
   "name": "python",
   "nbconvert_exporter": "python",
   "pygments_lexer": "ipython3",
   "version": "3.8.12"
  },
  "orig_nbformat": 4
 },
 "nbformat": 4,
 "nbformat_minor": 2
}
