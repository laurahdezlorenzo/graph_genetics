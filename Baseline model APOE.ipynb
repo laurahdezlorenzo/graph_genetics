{
 "cells": [
  {
   "cell_type": "code",
   "execution_count": null,
   "id": "fa655253",
   "metadata": {},
   "outputs": [],
   "source": [
    "import pandas as pd\n",
    "import pickle as pkl\n",
    "import numpy as np\n",
    "from sklearn import preprocessing\n",
    "from sklearn import metrics\n",
    "from ml_models.machine_learning_models import create_class_ADNI, create_class_LOAD, baseline_model"
   ]
  },
  {
   "cell_type": "markdown",
   "id": "3946d25d",
   "metadata": {},
   "source": [
    "### Baseline model in ADNI dataset"
   ]
  },
  {
   "cell_type": "markdown",
   "id": "3f2e946e",
   "metadata": {},
   "source": [
    "#### PET target"
   ]
  },
  {
   "cell_type": "code",
   "execution_count": null,
   "id": "1f9853d2",
   "metadata": {
    "scrolled": true
   },
   "outputs": [],
   "source": [
    "file = 'data/AD_PPI_missense_with_biomarkers.csv'\n",
    "data = pd.read_csv(file, index_col = 0)\n",
    "data_wclass = create_class_ADNI(data, 'PET') # or PET&DX\n",
    "\n",
    "x = data_wclass.drop(columns=['y'])\n",
    "x = x['APOE']\n",
    "\n",
    "y = data_wclass['y']\n",
    "x.index = x.index.str.upper()\n",
    "\n",
    "f = open(f'data/splits/split_PET.pkl', 'rb')\n",
    "split_pet = pkl.load(f)\n",
    "f.close()\n",
    "\n",
    "auc_pet = baseline_model(split_pet, x, y)\n",
    "print('Baseline model PET, AUC ROC:', auc_pet)"
   ]
  },
  {
   "cell_type": "markdown",
   "id": "3277410e",
   "metadata": {},
   "source": [
    "#### PET&DX target"
   ]
  },
  {
   "cell_type": "code",
   "execution_count": null,
   "id": "chubby-tutorial",
   "metadata": {},
   "outputs": [],
   "source": [
    "file = 'data/AD_PPI_missense_with_biomarkers.csv'\n",
    "data = pd.read_csv(file, index_col = 0)\n",
    "data_wclass = create_class_ADNI(data, 'PETandDX') # or PET&DX\n",
    "\n",
    "x = data_wclass.drop(columns=['y'])\n",
    "x = x['APOE']\n",
    "\n",
    "y = data_wclass['y']\n",
    "\n",
    "x.index = x.index.str.upper()\n",
    "\n",
    "f = open(f'data/splits/split_PETandDX.pkl', 'rb')\n",
    "split_petdx = pkl.load(f)\n",
    "f.close()\n",
    "\n",
    "auc_petdx = baseline_model(split_petdx, x, y)\n",
    "print('Baseline model PET, AUC ROC:', auc_petdx)"
   ]
  },
  {
   "cell_type": "markdown",
   "id": "healthy-jefferson",
   "metadata": {},
   "source": [
    "### Baseline model in T Gen II dataset\n",
    "#### LOAD target"
   ]
  },
  {
   "cell_type": "code",
   "execution_count": null,
   "id": "3b5cca9b",
   "metadata": {},
   "outputs": [],
   "source": [
    "file = 'data/AD_PPI_missense_with_biomarkers_LOAD.csv'\n",
    "data = pd.read_csv(file, index_col = 0)\n",
    "data_wclass = create_class_LOAD(data) # or PET&DX\n",
    "data_wclass\n",
    "\n",
    "x = data_wclass.drop(columns=['y'])\n",
    "x = x['APOE']\n",
    "\n",
    "y = data_wclass['y']\n",
    "\n",
    "x.index = x.index.str.upper()\n",
    "\n",
    "f = open(f'data/splits/split_LOAD.pkl', 'rb')\n",
    "split_load = pkl.load(f)\n",
    "f.close()\n",
    "\n",
    "auc_petdx = baseline_model(split_load, x, y)\n",
    "print('Baseline model PET, AUC ROC:', auc_petdx)"
   ]
  }
 ],
 "metadata": {
  "kernelspec": {
   "display_name": "Python 3",
   "language": "python",
   "name": "python3"
  },
  "language_info": {
   "codemirror_mode": {
    "name": "ipython",
    "version": 3
   },
   "file_extension": ".py",
   "mimetype": "text/x-python",
   "name": "python",
   "nbconvert_exporter": "python",
   "pygments_lexer": "ipython3",
   "version": "3.8.12"
  }
 },
 "nbformat": 4,
 "nbformat_minor": 5
}
