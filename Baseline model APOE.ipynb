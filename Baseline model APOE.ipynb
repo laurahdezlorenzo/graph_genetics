{
 "cells": [
  {
   "cell_type": "code",
   "execution_count": 1,
   "id": "fa655253",
   "metadata": {},
   "outputs": [],
   "source": [
    "import pandas as pd\n",
    "import pickle as pkl\n",
    "import numpy as np\n",
    "from sklearn import preprocessing\n",
    "\n",
    "from sklearn import metrics"
   ]
  },
  {
   "cell_type": "code",
   "execution_count": 2,
   "id": "fd13dcf4",
   "metadata": {},
   "outputs": [],
   "source": [
    "from machine_learning_models import create_class_ADNI, create_class_LOAD, baseline_model"
   ]
  },
  {
   "cell_type": "markdown",
   "id": "3946d25d",
   "metadata": {},
   "source": [
    "### Baseline model in ADNI dataset"
   ]
  },
  {
   "cell_type": "markdown",
   "id": "3f2e946e",
   "metadata": {},
   "source": [
    "#### PET target"
   ]
  },
  {
   "cell_type": "code",
   "execution_count": 3,
   "id": "1f9853d2",
   "metadata": {
    "scrolled": true
   },
   "outputs": [
    {
     "name": "stdout",
     "output_type": "stream",
     "text": [
      "Class distribution:\n",
      "1.0    410\n",
      "0.0    316\n",
      "Name: y, dtype: int64\n",
      "\n",
      "Confusion matrix:\n",
      " [[ 6 26]\n",
      " [ 2 39]]\n",
      "\n",
      "              precision    recall  f1-score   support\n",
      "\n",
      "         0.0       0.75      0.19      0.30        32\n",
      "         1.0       0.60      0.95      0.74        41\n",
      "\n",
      "    accuracy                           0.62        73\n",
      "   macro avg       0.68      0.57      0.52        73\n",
      "weighted avg       0.67      0.62      0.54        73\n",
      "\n",
      "Baseline model PET, AUC ROC: 0.6894054878048781\n"
     ]
    }
   ],
   "source": [
    "file = 'data/AD_PPI_missense_with_biomarkers.csv'\n",
    "data = pd.read_csv(file, index_col = 0)\n",
    "data_wclass = create_class_ADNI(data, 'PET') # or PET&DX\n",
    "\n",
    "x = data_wclass.drop(columns=['y'])\n",
    "x = x['APOE']\n",
    "\n",
    "y = data_wclass['y']\n",
    "x.index = x.index.str.upper()\n",
    "\n",
    "f = open(f'data/splits/split_PET.pkl', 'rb')\n",
    "split_pet = pkl.load(f)\n",
    "f.close()\n",
    "\n",
    "auc_pet = baseline_model(split_pet, x, y)\n",
    "print('Baseline model PET, AUC ROC:', auc_pet)"
   ]
  },
  {
   "cell_type": "markdown",
   "id": "3277410e",
   "metadata": {},
   "source": [
    "#### PET&DX target"
   ]
  },
  {
   "cell_type": "code",
   "execution_count": 4,
   "id": "chubby-tutorial",
   "metadata": {},
   "outputs": [
    {
     "name": "stdout",
     "output_type": "stream",
     "text": [
      "Class distribution:\n",
      "1.0    182\n",
      "0.0    135\n",
      "Name: y, dtype: int64\n",
      "\n",
      "Confusion matrix:\n",
      " [[ 8  6]\n",
      " [ 2 16]]\n",
      "\n",
      "              precision    recall  f1-score   support\n",
      "\n",
      "         0.0       0.80      0.57      0.67        14\n",
      "         1.0       0.73      0.89      0.80        18\n",
      "\n",
      "    accuracy                           0.75        32\n",
      "   macro avg       0.76      0.73      0.73        32\n",
      "weighted avg       0.76      0.75      0.74        32\n",
      "\n",
      "Baseline model PET, AUC ROC: 0.6825396825396824\n"
     ]
    }
   ],
   "source": [
    "file = 'data/AD_PPI_missense_with_biomarkers.csv'\n",
    "data = pd.read_csv(file, index_col = 0)\n",
    "data_wclass = create_class_ADNI(data, 'PETandDX') # or PET&DX\n",
    "\n",
    "x = data_wclass.drop(columns=['y'])\n",
    "x = x['APOE']\n",
    "\n",
    "y = data_wclass['y']\n",
    "\n",
    "x.index = x.index.str.upper()\n",
    "\n",
    "f = open(f'data/splits/split_PETandDX.pkl', 'rb')\n",
    "split_petdx = pkl.load(f)\n",
    "f.close()\n",
    "\n",
    "auc_petdx = baseline_model(split_petdx, x, y)\n",
    "print('Baseline model PET, AUC ROC:', auc_petdx)"
   ]
  },
  {
   "cell_type": "markdown",
   "id": "healthy-jefferson",
   "metadata": {},
   "source": [
    "### Baseline model in T Gen II dataset\n",
    "#### LOAD target"
   ]
  },
  {
   "cell_type": "code",
   "execution_count": 5,
   "id": "3b5cca9b",
   "metadata": {},
   "outputs": [
    {
     "name": "stdout",
     "output_type": "stream",
     "text": [
      "Class distribution:\n",
      "1.0    1014\n",
      "0.0     585\n",
      "Name: y, dtype: int64\n",
      "\n",
      "Confusion matrix:\n",
      " [[36 23]\n",
      " [30 71]]\n",
      "\n",
      "              precision    recall  f1-score   support\n",
      "\n",
      "         0.0       0.55      0.61      0.58        59\n",
      "         1.0       0.76      0.70      0.73       101\n",
      "\n",
      "    accuracy                           0.67       160\n",
      "   macro avg       0.65      0.66      0.65       160\n",
      "weighted avg       0.68      0.67      0.67       160\n",
      "\n",
      "Baseline model PET, AUC ROC: 0.6266152038932706\n"
     ]
    }
   ],
   "source": [
    "file = 'data/AD_PPI_missense_with_biomarkers_LOAD.csv'\n",
    "data = pd.read_csv(file, index_col = 0)\n",
    "data_wclass = create_class_LOAD(data) # or PET&DX\n",
    "data_wclass\n",
    "\n",
    "x = data_wclass.drop(columns=['y'])\n",
    "x = x['APOE']\n",
    "\n",
    "y = data_wclass['y']\n",
    "\n",
    "x.index = x.index.str.upper()\n",
    "\n",
    "f = open(f'data/splits/split_LOAD.pkl', 'rb')\n",
    "split_load = pkl.load(f)\n",
    "f.close()\n",
    "\n",
    "auc_petdx = baseline_model(split_load, x, y)\n",
    "print('Baseline model PET, AUC ROC:', auc_petdx)"
   ]
  }
 ],
 "metadata": {
  "kernelspec": {
   "display_name": "Python 3",
   "language": "python",
   "name": "python3"
  },
  "language_info": {
   "codemirror_mode": {
    "name": "ipython",
    "version": 3
   },
   "file_extension": ".py",
   "mimetype": "text/x-python",
   "name": "python",
   "nbconvert_exporter": "python",
   "pygments_lexer": "ipython3",
   "version": "3.7.10"
  }
 },
 "nbformat": 4,
 "nbformat_minor": 5
}
