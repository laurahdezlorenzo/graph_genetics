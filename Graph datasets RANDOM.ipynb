{
 "cells": [
  {
   "cell_type": "code",
   "execution_count": null,
   "metadata": {},
   "outputs": [],
   "source": [
    "import networks.randomize_network as rn\n",
    "import create_datasets.create_nx_datasets\n",
    "import networkx as nx"
   ]
  },
  {
   "cell_type": "markdown",
   "metadata": {},
   "source": [
    "#### Random networks\n",
    "Create 100 random networks for each randomization method (\"Shuffled\" and \"Rewired\") and for each gene set (AD and NDD).\n",
    "\n",
    "#### AD gene set"
   ]
  },
  {
   "cell_type": "code",
   "execution_count": null,
   "metadata": {},
   "outputs": [],
   "source": [
    "indir = 'data'\n",
    "outdir = 'data/random_networks'\n",
    "\n",
    "disease = 'AD'\n",
    "network = 'PPI'\n",
    "\n",
    "infile = f'{indir}/{disease}_STRING_PPI_edgelist_biggest.txt'\n",
    "original = rn.load_graph(infile)\n",
    "\n",
    "for i in range(1, 101):\n",
    "    shuffled = rn.shuffle_nodes(original)\n",
    "    nx.write_edgelist(shuffled, f'{outdir}/shuffled/{disease}_{network}_rand{i}_edgelist.txt')\n",
    "\n",
    "    rewired = rn.generate_RDPN(infile)\n",
    "    nx.write_edgelist(shuffled, f'{outdir}/rewired/{disease}_{network}_rand{i}_edgelist.txt')\n"
   ]
  },
  {
   "cell_type": "markdown",
   "metadata": {},
   "source": [
    "#### NDD gene set - PET target - Shuffled datasets"
   ]
  },
  {
   "cell_type": "code",
   "execution_count": null,
   "metadata": {},
   "outputs": [],
   "source": [
    "disease = 'ND'\n",
    "network = 'PPI'\n",
    "\n",
    "infile = f'{indir}/{disease}_STRING_PPI_edgelist_biggest.txt'\n",
    "original = rn.load_graph(infile)\n",
    "\n",
    "for i in range(1, 101):\n",
    "    shuffled = rn.shuffle_nodes(original)\n",
    "    nx.write_edgelist(shuffled, f'{outdir}/shuffled/{disease}_{network}_rand{i}_edgelist.txt')\n",
    "\n",
    "    rewired = rn.generate_RDPN(infile)\n",
    "    nx.write_edgelist(shuffled, f'{outdir}/rewired/{disease}_{network}_rand{i}_edgelist.txt')"
   ]
  },
  {
   "cell_type": "markdown",
   "metadata": {},
   "source": [
    "### Random graph datasets\n",
    "Create corresponding graph-datasets for each random network. This takes time because 800 different graph-datasets (2 methods x 2 gene sets x 100 random networks x 2 different targets) are built.\n",
    "\n",
    "#### PET target - Shuffled datasets - AD gene set"
   ]
  },
  {
   "cell_type": "code",
   "execution_count": null,
   "metadata": {},
   "outputs": [],
   "source": [
    "import os, sys, datetime, pickle"
   ]
  },
  {
   "cell_type": "code",
   "execution_count": null,
   "metadata": {},
   "outputs": [],
   "source": [
    "dataset = 'ADNI'\n",
    "target = 'PET'\n",
    "disease = 'AD'\n",
    "network = 'shuffled'\n",
    "\n",
    "indir = 'data'\n",
    "outdir = f'data/graph_datasets/{target}/{network}'\n",
    "print('Input directory:', indir)\n",
    "print('Output directory:', outdir)\n",
    "print()\n",
    "\n",
    "for i in range(1, 101):\n",
    "\n",
    "    start_time = datetime.datetime.now()\n",
    "    print()\n",
    "\n",
    "    # result_nodes = create_nx_datasets.main(indir, 'ADNI', 'PET', 'AD', 'original', 'missense', None)\n",
    "    result_nodes = create_nx_datasets.main(indir, dataset, target, disease, network, 'missense', i)\n",
    "    print('Coding: number of missense variants per node')\n",
    "\n",
    "    outfile = f'{outdir}/{disease}_PPI_rand{i}_missense.pkl'\n",
    "    print('Resulting dataset saved at:', outfile)\n",
    "    print()\n",
    "\n",
    "    with open(outfile, 'wb') as f:\n",
    "        pickle.dump(result_nodes, f)\n",
    "\n",
    "    result_nodes_time = datetime.datetime.now()\n",
    "    print('Processing time:', result_nodes_time - start_time)\n",
    "    print('\\n\\n')"
   ]
  },
  {
   "cell_type": "markdown",
   "metadata": {},
   "source": [
    "#### PET target - Shuffled datasets - NDD gene set"
   ]
  },
  {
   "cell_type": "code",
   "execution_count": null,
   "metadata": {},
   "outputs": [],
   "source": [
    "dataset = 'ADNI'\n",
    "target = 'PET'\n",
    "disease = 'ND'\n",
    "network = 'shuffled'\n",
    "\n",
    "indir = 'data'\n",
    "outdir = f'data/graph_datasets/{target}/{network}'\n",
    "print('Input directory:', indir)\n",
    "print('Output directory:', outdir)\n",
    "print()\n",
    "\n",
    "for i in range(1, 101):\n",
    "\n",
    "    start_time = datetime.datetime.now()\n",
    "    print()\n",
    "\n",
    "    # result_nodes = create_nx_datasets.main(indir, 'ADNI', 'PET', 'AD', 'original', 'missense', None)\n",
    "    result_nodes = create_nx_datasets.main(indir, dataset, target, disease, network, 'missense', i)\n",
    "    print('Coding: number of missense variants per node')\n",
    "\n",
    "    outfile = f'{outdir}/{disease}_PPI_rand{i}_missense.pkl'\n",
    "    print('Resulting dataset saved at:', outfile)\n",
    "    print()\n",
    "\n",
    "    with open(outfile, 'wb') as f:\n",
    "        pickle.dump(result_nodes, f)\n",
    "\n",
    "    result_nodes_time = datetime.datetime.now()\n",
    "    print('Processing time:', result_nodes_time - start_time)\n",
    "    print('\\n\\n')"
   ]
  },
  {
   "cell_type": "markdown",
   "metadata": {},
   "source": [
    "#### PET&DX target - Shuffled datasets - AD gene set"
   ]
  },
  {
   "cell_type": "code",
   "execution_count": null,
   "metadata": {},
   "outputs": [],
   "source": [
    "dataset = 'ADNI'\n",
    "target = 'PETandDX'\n",
    "disease = 'AD'\n",
    "network = 'shuffled'\n",
    "\n",
    "indir = 'data'\n",
    "outdir = f'data/graph_datasets/{target}/{network}'\n",
    "print('Input directory:', indir)\n",
    "print('Output directory:', outdir)\n",
    "print()\n",
    "\n",
    "for i in range(1, 101):\n",
    "\n",
    "    start_time = datetime.datetime.now()\n",
    "    print()\n",
    "\n",
    "    # result_nodes = create_nx_datasets.main(indir, 'ADNI', 'PET', 'AD', 'original', 'missense', None)\n",
    "    result_nodes = create_nx_datasets.main(indir, dataset, target, disease, network, 'missense', i)\n",
    "    print('Coding: number of missense variants per node')\n",
    "\n",
    "    outfile = f'{outdir}/{disease}_PPI_rand{i}_missense.pkl'\n",
    "    print('Resulting dataset saved at:', outfile)\n",
    "    print()\n",
    "\n",
    "    with open(outfile, 'wb') as f:\n",
    "        pickle.dump(result_nodes, f)\n",
    "\n",
    "    result_nodes_time = datetime.datetime.now()\n",
    "    print('Processing time:', result_nodes_time - start_time)\n",
    "    print('\\n\\n')"
   ]
  },
  {
   "cell_type": "markdown",
   "metadata": {},
   "source": [
    "#### PET&DX target - Shuffled datasets - NDD gene set"
   ]
  },
  {
   "cell_type": "code",
   "execution_count": null,
   "metadata": {},
   "outputs": [],
   "source": [
    "dataset = 'ADNI'\n",
    "target = 'PETandDX'\n",
    "disease = 'ND'\n",
    "network = 'shuffled'\n",
    "\n",
    "indir = 'data'\n",
    "outdir = f'data/graph_datasets/{target}/{network}'\n",
    "print('Input directory:', indir)\n",
    "print('Output directory:', outdir)\n",
    "print()\n",
    "\n",
    "for i in range(1, 101):\n",
    "\n",
    "    start_time = datetime.datetime.now()\n",
    "    print()\n",
    "\n",
    "    # result_nodes = create_nx_datasets.main(indir, 'ADNI', 'PET', 'AD', 'original', 'missense', None)\n",
    "    result_nodes = create_nx_datasets.main(indir, dataset, target, disease, network, 'missense', i)\n",
    "    print('Coding: number of missense variants per node')\n",
    "\n",
    "    outfile = f'{outdir}/{disease}_PPI_rand{i}_missense.pkl'\n",
    "    print('Resulting dataset saved at:', outfile)\n",
    "    print()\n",
    "\n",
    "    with open(outfile, 'wb') as f:\n",
    "        pickle.dump(result_nodes, f)\n",
    "\n",
    "    result_nodes_time = datetime.datetime.now()\n",
    "    print('Processing time:', result_nodes_time - start_time)\n",
    "    print('\\n\\n')"
   ]
  },
  {
   "cell_type": "markdown",
   "metadata": {},
   "source": [
    "#### PET target - Rewired datasets - AD gene set"
   ]
  },
  {
   "cell_type": "code",
   "execution_count": null,
   "metadata": {},
   "outputs": [],
   "source": [
    "dataset = 'ADNI'\n",
    "target = 'PET'\n",
    "disease = 'AD'\n",
    "network = 'rewired'\n",
    "\n",
    "indir = 'data'\n",
    "outdir = f'data/graph_datasets/{target}/{network}'\n",
    "print('Input directory:', indir)\n",
    "print('Output directory:', outdir)\n",
    "print()\n",
    "\n",
    "for i in range(1, 101):\n",
    "\n",
    "    start_time = datetime.datetime.now()\n",
    "    print()\n",
    "\n",
    "    # result_nodes = create_nx_datasets.main(indir, 'ADNI', 'PET', 'AD', 'original', 'missense', None)\n",
    "    result_nodes = create_nx_datasets.main(indir, dataset, target, disease, network, 'missense', i)\n",
    "    print('Coding: number of missense variants per node')\n",
    "\n",
    "    outfile = f'{outdir}/{disease}_PPI_rand{i}_missense.pkl'\n",
    "    print('Resulting dataset saved at:', outfile)\n",
    "    print()\n",
    "\n",
    "    with open(outfile, 'wb') as f:\n",
    "        pickle.dump(result_nodes, f)\n",
    "\n",
    "    result_nodes_time = datetime.datetime.now()\n",
    "    print('Processing time:', result_nodes_time - start_time)\n",
    "    print('\\n\\n')"
   ]
  },
  {
   "cell_type": "markdown",
   "metadata": {},
   "source": [
    "#### PET target - Rewired datasets - NDD gene set"
   ]
  },
  {
   "cell_type": "code",
   "execution_count": null,
   "metadata": {},
   "outputs": [],
   "source": [
    "dataset = 'ADNI'\n",
    "target = 'PET'\n",
    "disease = 'ND'\n",
    "network = 'rewired'\n",
    "\n",
    "indir = 'data'\n",
    "outdir = f'data/graph_datasets/{target}/{network}'\n",
    "print('Input directory:', indir)\n",
    "print('Output directory:', outdir)\n",
    "print()\n",
    "\n",
    "for i in range(1, 101):\n",
    "\n",
    "    start_time = datetime.datetime.now()\n",
    "    print()\n",
    "\n",
    "    # result_nodes = create_nx_datasets.main(indir, 'ADNI', 'PET', 'AD', 'original', 'missense', None)\n",
    "    result_nodes = create_nx_datasets.main(indir, dataset, target, disease, network, 'missense', i)\n",
    "    print('Coding: number of missense variants per node')\n",
    "\n",
    "    outfile = f'{outdir}/{disease}_PPI_rand{i}_missense.pkl'\n",
    "    print('Resulting dataset saved at:', outfile)\n",
    "    print()\n",
    "\n",
    "    with open(outfile, 'wb') as f:\n",
    "        pickle.dump(result_nodes, f)\n",
    "\n",
    "    result_nodes_time = datetime.datetime.now()\n",
    "    print('Processing time:', result_nodes_time - start_time)\n",
    "    print('\\n\\n')"
   ]
  },
  {
   "cell_type": "markdown",
   "metadata": {},
   "source": [
    "#### PET&DX target - Rewired datasets - AD gene set"
   ]
  },
  {
   "cell_type": "code",
   "execution_count": null,
   "metadata": {},
   "outputs": [],
   "source": [
    "dataset = 'ADNI'\n",
    "target = 'PETandDX'\n",
    "disease = 'AD'\n",
    "network = 'rewired'\n",
    "\n",
    "indir = 'data'\n",
    "outdir = f'data/graph_datasets/{target}/{network}'\n",
    "print('Input directory:', indir)\n",
    "print('Output directory:', outdir)\n",
    "print()\n",
    "\n",
    "for i in range(1, 101):\n",
    "\n",
    "    start_time = datetime.datetime.now()\n",
    "    print()\n",
    "\n",
    "    # result_nodes = create_nx_datasets.main(indir, 'ADNI', 'PET', 'AD', 'original', 'missense', None)\n",
    "    result_nodes = create_nx_datasets.main(indir, dataset, target, disease, network, 'missense', i)\n",
    "    print('Coding: number of missense variants per node')\n",
    "\n",
    "    outfile = f'{outdir}/{disease}_PPI_rand{i}_missense.pkl'\n",
    "    print('Resulting dataset saved at:', outfile)\n",
    "    print()\n",
    "\n",
    "    with open(outfile, 'wb') as f:\n",
    "        pickle.dump(result_nodes, f)\n",
    "\n",
    "    result_nodes_time = datetime.datetime.now()\n",
    "    print('Processing time:', result_nodes_time - start_time)\n",
    "    print('\\n\\n')"
   ]
  },
  {
   "cell_type": "markdown",
   "metadata": {},
   "source": [
    "#### PET&DX target - Rewired datasets - NDD gene set"
   ]
  },
  {
   "cell_type": "code",
   "execution_count": null,
   "metadata": {},
   "outputs": [],
   "source": [
    "dataset = 'ADNI'\n",
    "target = 'PETandDX'\n",
    "disease = 'ND'\n",
    "network = 'rewired'\n",
    "\n",
    "indir = 'data'\n",
    "outdir = f'data/graph_datasets/{target}/{network}'\n",
    "print('Input directory:', indir)\n",
    "print('Output directory:', outdir)\n",
    "print()\n",
    "\n",
    "for i in range(1, 101):\n",
    "\n",
    "    start_time = datetime.datetime.now()\n",
    "    print()\n",
    "\n",
    "    # result_nodes = create_nx_datasets.main(indir, 'ADNI', 'PET', 'AD', 'original', 'missense', None)\n",
    "    result_nodes = create_nx_datasets.main(indir, dataset, target, disease, network, 'missense', i)\n",
    "    print('Coding: number of missense variants per node')\n",
    "\n",
    "    outfile = f'{outdir}/{disease}_PPI_rand{i}_missense.pkl'\n",
    "    print('Resulting dataset saved at:', outfile)\n",
    "    print()\n",
    "\n",
    "    with open(outfile, 'wb') as f:\n",
    "        pickle.dump(result_nodes, f)\n",
    "\n",
    "    result_nodes_time = datetime.datetime.now()\n",
    "    print('Processing time:', result_nodes_time - start_time)\n",
    "    print('\\n\\n')"
   ]
  }
 ],
 "metadata": {
  "interpreter": {
   "hash": "5e0466fb38f8b8207bee76f1d5f01e5f82e3be8917a80d900a987709dfd81e7a"
  },
  "kernelspec": {
   "display_name": "Python 3.7.10 ('graphgym')",
   "language": "python",
   "name": "python3"
  },
  "language_info": {
   "codemirror_mode": {
    "name": "ipython",
    "version": 3
   },
   "file_extension": ".py",
   "mimetype": "text/x-python",
   "name": "python",
   "nbconvert_exporter": "python",
   "pygments_lexer": "ipython3",
   "version": "3.7.12"
  },
  "orig_nbformat": 4
 },
 "nbformat": 4,
 "nbformat_minor": 2
}
