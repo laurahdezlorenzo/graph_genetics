{
 "cells": [
  {
   "cell_type": "code",
   "execution_count": 1,
   "metadata": {},
   "outputs": [],
   "source": [
    "import pandas as pd"
   ]
  },
  {
   "cell_type": "code",
   "execution_count": 7,
   "metadata": {},
   "outputs": [
    {
     "data": {
      "text/plain": [
       "Index(['CHROM', 'POS', 'ID', 'REF', 'ALT', 'Allele', 'Consequence', 'IMPACT',\n",
       "       'SYMBOL', 'Gene',\n",
       "       ...\n",
       "       'UKCON126', 'UKCON128', 'UKCON130', 'UKCON143', 'UKCON144', 'UKCON135',\n",
       "       'UKCON136', 'UKCON137', 'UKCON138', 'UKCON139'],\n",
       "      dtype='object', length=1679)"
      ]
     },
     "execution_count": 7,
     "metadata": {},
     "output_type": "execute_result"
    }
   ],
   "source": [
    "header = 'data/LOAD/field_names_ND.txt'\n",
    "infile = 'data/LOAD/ND_PPI_worst_missense.tsv'\n",
    "\n",
    "# Add header\n",
    "col_file = open(header, 'r')\n",
    "col_names = col_file.read().split('\\n')\n",
    "col_file.close()\n",
    "\n",
    "[col.upper() for col in col_names]\n",
    "\n",
    "# Load file\n",
    "variants_matrix = pd.read_csv(infile, sep='\\t', names=col_names)\n",
    "variants_matrix.columns"
   ]
  },
  {
   "cell_type": "code",
   "execution_count": null,
   "metadata": {},
   "outputs": [],
   "source": [
    "# Delete non-useful columns\n",
    "print(variants_matrix.columns[9:47])"
   ]
  },
  {
   "cell_type": "code",
   "execution_count": null,
   "metadata": {},
   "outputs": [],
   "source": [
    "variants_matrix.drop(variants_matrix.columns[9:47], axis=1, inplace=True)\n",
    "print(variants_matrix)"
   ]
  },
  {
   "cell_type": "code",
   "execution_count": null,
   "metadata": {},
   "outputs": [],
   "source": [
    "variants_matrix.drop(variants_matrix.columns[11:42], axis=1, inplace=True)\n",
    "print(variants_matrix)"
   ]
  }
 ],
 "metadata": {
  "interpreter": {
   "hash": "5e0466fb38f8b8207bee76f1d5f01e5f82e3be8917a80d900a987709dfd81e7a"
  },
  "kernelspec": {
   "display_name": "Python 3.7.10 ('graphgym')",
   "language": "python",
   "name": "python3"
  },
  "language_info": {
   "codemirror_mode": {
    "name": "ipython",
    "version": 3
   },
   "file_extension": ".py",
   "mimetype": "text/x-python",
   "name": "python",
   "nbconvert_exporter": "python",
   "pygments_lexer": "ipython3",
   "version": "3.7.10"
  },
  "orig_nbformat": 4
 },
 "nbformat": 4,
 "nbformat_minor": 2
}
