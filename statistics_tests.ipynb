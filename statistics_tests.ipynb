{
 "cells": [
  {
   "cell_type": "code",
   "execution_count": 27,
   "id": "6a5550b6",
   "metadata": {},
   "outputs": [],
   "source": [
    "from scipy.stats import ttest_ind\n",
    "import numpy as np\n",
    "from scipy import stats\n",
    "import pandas as pd\n",
    "import matplotlib.pyplot as plt"
   ]
  },
  {
   "cell_type": "code",
   "execution_count": 52,
   "id": "38c798e9",
   "metadata": {},
   "outputs": [],
   "source": [
    "mean_ad_ppi_pet = 0.7124\n",
    "mean_nd_ppi_pet = 0.6738\n",
    "mean_ad_ppi_petdx = 0.6738\n",
    "mean_nd_ppi_petdx = 0.6738\n",
    "                     \n",
    "ad_ppi_pet = [0.6898, 0.7180, 0.7294]\n",
    "nd_ppi_pet = [0.7050, 0.6349, 0.7143]\n",
    "ad_ppi_petdx = [0.6825, 0.7302, 0.7143]\n",
    "nd_ppi_petdx = [0.7937, 0.8532, 0.6389]"
   ]
  },
  {
   "cell_type": "code",
   "execution_count": 62,
   "id": "senior-dispute",
   "metadata": {},
   "outputs": [],
   "source": [
    "def compute_pvalues(original_runs, original_mean, data):\n",
    "    \n",
    "    data.drop(columns=['epoch'], inplace=True)\n",
    "    \n",
    "    data['mean'] = data.mean(axis=1)\n",
    "\n",
    "    run1 = data['1'].values.tolist()\n",
    "    run2 = data['2'].values.tolist()\n",
    "    run3 = data['3'].values.tolist()\n",
    "    mean = data['mean'].values.tolist()\n",
    "\n",
    "    all_list = data.values.tolist()\n",
    "    all_runs = [item for sublist in all_list for item in sublist]\n",
    "    \n",
    "    plt.hist(all_runs, alpha=0.5)\n",
    "    plt.title('Distribution AUC values random networks')\n",
    "    plt.ylabel('count')\n",
    "    plt.show()\n",
    "    \n",
    "    k2, p = stats.normaltest(all_runs)\n",
    "    alpha = 1e-3\n",
    "    print(\"p = {:g}\".format(p))\n",
    "    if p < alpha:  # null hypothesis: x comes from a normal distribution\n",
    "        print(\"The null hypothesis can be rejected. No normal.\")\n",
    "    else:\n",
    "        print(\"The null hypothesis cannot be rejected. Sí normal.\")\n",
    "    \n",
    "    pval_ms = stats.ttest_1samp(mean, original_mean, alternative='less')[1]\n",
    "    pval_mn = stats.ttest_1samp(all_runs, original_mean, alternative='less')[1]\n",
    "    \n",
    "    pval1 = stats.ttest_1samp(all_runs, original_runs[0], alternative='less')[1]\n",
    "    pval2 = stats.ttest_1samp(all_runs, original_runs[1], alternative='less')[1]\n",
    "    pval3 = stats.ttest_1samp(all_runs, original_runs[2], alternative='less')[1]\n",
    "    pval11 = stats.ttest_1samp(run1, original_runs[0], alternative='less')[1]\n",
    "    pval22 = stats.ttest_1samp(run2, original_runs[1], alternative='less')[1]\n",
    "    pval33 = stats.ttest_1samp(run3, original_runs[2], alternative='less')[1]\n",
    "    \n",
    "    return pval1, pval2, pval3, pval11, pval22, pval33, pval_ms, pval_mn\n",
    "    "
   ]
  },
  {
   "cell_type": "code",
   "execution_count": 1,
   "id": "33d15e63",
   "metadata": {},
   "outputs": [
    {
     "ename": "NameError",
     "evalue": "name 'pd' is not defined",
     "output_type": "error",
     "traceback": [
      "\u001b[0;31m---------------------------------------------------------------------------\u001b[0m",
      "\u001b[0;31mNameError\u001b[0m                                 Traceback (most recent call last)",
      "\u001b[0;32m<ipython-input-1-5c7e1191350a>\u001b[0m in \u001b[0;36m<module>\u001b[0;34m\u001b[0m\n\u001b[1;32m      1\u001b[0m \u001b[0minfile\u001b[0m \u001b[0;34m=\u001b[0m \u001b[0;34m'/home/laura/Desktop/random_runs/PET_AD_PPI_SHUFFLED_runs.csv'\u001b[0m\u001b[0;34m\u001b[0m\u001b[0;34m\u001b[0m\u001b[0m\n\u001b[1;32m      2\u001b[0m \u001b[0;34m\u001b[0m\u001b[0m\n\u001b[0;32m----> 3\u001b[0;31m \u001b[0mdata\u001b[0m \u001b[0;34m=\u001b[0m \u001b[0mpd\u001b[0m\u001b[0;34m.\u001b[0m\u001b[0mread_csv\u001b[0m\u001b[0;34m(\u001b[0m\u001b[0minfile\u001b[0m\u001b[0;34m,\u001b[0m \u001b[0mindex_col\u001b[0m\u001b[0;34m=\u001b[0m\u001b[0;34m'random'\u001b[0m\u001b[0;34m)\u001b[0m\u001b[0;34m\u001b[0m\u001b[0;34m\u001b[0m\u001b[0m\n\u001b[0m\u001b[1;32m      4\u001b[0m \u001b[0;34m\u001b[0m\u001b[0m\n\u001b[1;32m      5\u001b[0m \u001b[0mpval1\u001b[0m\u001b[0;34m,\u001b[0m \u001b[0mpval2\u001b[0m\u001b[0;34m,\u001b[0m \u001b[0mpval3\u001b[0m\u001b[0;34m,\u001b[0m \u001b[0mpval11\u001b[0m\u001b[0;34m,\u001b[0m \u001b[0mpval22\u001b[0m\u001b[0;34m,\u001b[0m \u001b[0mpval33\u001b[0m\u001b[0;34m,\u001b[0m \u001b[0mpval_ms\u001b[0m\u001b[0;34m,\u001b[0m \u001b[0mpval_mn\u001b[0m \u001b[0;34m=\u001b[0m \u001b[0mcompute_pvalues\u001b[0m\u001b[0;34m(\u001b[0m\u001b[0mad_ppi_pet\u001b[0m\u001b[0;34m,\u001b[0m \u001b[0mmean_ad_ppi_pet\u001b[0m\u001b[0;34m,\u001b[0m \u001b[0mdata\u001b[0m\u001b[0;34m)\u001b[0m\u001b[0;34m\u001b[0m\u001b[0;34m\u001b[0m\u001b[0m\n",
      "\u001b[0;31mNameError\u001b[0m: name 'pd' is not defined"
     ]
    }
   ],
   "source": [
    "infile = '/home/laura/Desktop/random_runs/PET_AD_PPI_SHUFFLED_runs.csv'\n",
    "\n",
    "data = pd.read_csv(infile, index_col='random')\n",
    "\n",
    "pval1, pval2, pval3, pval11, pval22, pval33, pval_ms, pval_mn = compute_pvalues(ad_ppi_pet, mean_ad_ppi_pet, data)\n",
    "\n",
    "print(pval1)\n",
    "print(pval2)\n",
    "print(pval3)\n",
    "print(pval11)\n",
    "print(pval22)\n",
    "print(pval33)\n",
    "\n",
    "print(pval_ms)\n",
    "print(pval_mn)"
   ]
  },
  {
   "cell_type": "code",
   "execution_count": 64,
   "id": "0052c01f",
   "metadata": {},
   "outputs": [
    {
     "data": {
      "image/png": "[encoded data removed]",
      "text/plain": [
       "<Figure size 432x288 with 1 Axes>"
      ]
     },
     "metadata": {
      "needs_background": "light"
     },
     "output_type": "display_data"
    },
    {
     "name": "stdout",
     "output_type": "stream",
     "text": [
      "p = 0.563938\n",
      "The null hypothesis cannot be rejected. Sí normal.\n",
      "2.0066642395526015e-172\n",
      "4.644642599499796e-105\n",
      "5.304635346833698e-180\n",
      "1.4971201186478633e-40\n",
      "2.4080392568893333e-24\n",
      "2.6489736473185257e-47\n",
      "1.2446980590217087e-45\n",
      "8.257781080171803e-145\n"
     ]
    }
   ],
   "source": [
    "infile = '/home/laura/Desktop/random_runs/PET_ND_PPI_SHUFFLED_runs.csv'\n",
    "\n",
    "data = pd.read_csv(infile, index_col='random')\n",
    "\n",
    "\n",
    "pval1, pval2, pval3, pval11, pval22, pval33, pval_ms, pval_mn = compute_pvalues(nd_ppi_pet, mean_nd_ppi_pet, data)\n",
    "\n",
    "print(pval1)\n",
    "print(pval2)\n",
    "print(pval3)\n",
    "print(pval11)\n",
    "print(pval22)\n",
    "print(pval33)\n",
    "print(pval_ms)\n",
    "print(pval_mn)"
   ]
  },
  {
   "cell_type": "code",
   "execution_count": 65,
   "id": "7572048d",
   "metadata": {},
   "outputs": [
    {
     "data": {
      "image/png": "[encoded data removed]",
      "text/plain": [
       "<Figure size 432x288 with 1 Axes>"
      ]
     },
     "metadata": {
      "needs_background": "light"
     },
     "output_type": "display_data"
    },
    {
     "name": "stdout",
     "output_type": "stream",
     "text": [
      "p = 9.1164e-07\n",
      "The null hypothesis can be rejected. No normal.\n",
      "1.1070432828099415e-09\n",
      "3.450447528405384e-39\n",
      "6.511278835635151e-28\n",
      "0.0012267961352722889\n",
      "1.2681499720242333e-10\n",
      "1.6502549704230976e-06\n",
      "0.0009738699857364426\n",
      "3.1153685154476464e-06\n"
     ]
    }
   ],
   "source": [
    "infile = '/home/laura/Desktop/random_runs/PETandDX_AD_PPI_SHUFFLED_runs.csv'\n",
    "\n",
    "data = pd.read_csv(infile, index_col='random')\n",
    "\n",
    "pval1, pval2, pval3, pval11, pval22, pval33, pval_ms, pval_mn = compute_pvalues(ad_ppi_petdx, mean_ad_ppi_petdx, data)\n",
    "\n",
    "print(pval1)\n",
    "print(pval2)\n",
    "print(pval3)\n",
    "print(pval11)\n",
    "print(pval22)\n",
    "print(pval33)\n",
    "print(pval_ms)\n",
    "print(pval_mn)"
   ]
  },
  {
   "cell_type": "code",
   "execution_count": 66,
   "id": "21ba4b39",
   "metadata": {},
   "outputs": [
    {
     "data": {
      "image/png": "[encoded data removed]",
      "text/plain": [
       "<Figure size 432x288 with 1 Axes>"
      ]
     },
     "metadata": {
      "needs_background": "light"
     },
     "output_type": "display_data"
    },
    {
     "name": "stdout",
     "output_type": "stream",
     "text": [
      "p = 0.472146\n",
      "The null hypothesis cannot be rejected. Sí normal.\n",
      "9.162148318454445e-167\n",
      "1.014149352993148e-201\n",
      "3.159232328825618e-43\n",
      "4.2574040020656514e-45\n",
      "7.273656465547257e-49\n",
      "1.5728002979286284e-06\n",
      "1.21032846870263e-28\n",
      "2.147710757638723e-74\n"
     ]
    }
   ],
   "source": [
    "infile = '/home/laura/Desktop/random_runs/PETandDX_ND_PPI_SHUFFLED_runs.csv'\n",
    "\n",
    "data = pd.read_csv(infile, index_col='random')\n",
    "\n",
    "pval1, pval2, pval3, pval11, pval22, pval33, pval_ms, pval_mn = compute_pvalues(nd_ppi_petdx, mean_nd_ppi_petdx, data)\n",
    "\n",
    "print(pval1)\n",
    "print(pval2)\n",
    "print(pval3)\n",
    "print(pval11)\n",
    "print(pval22)\n",
    "print(pval33)\n",
    "print(pval_ms)\n",
    "print(pval_mn)"
   ]
  },
  {
   "cell_type": "code",
   "execution_count": 67,
   "id": "2e013848",
   "metadata": {},
   "outputs": [
    {
     "data": {
      "image/png": "[encoded data removed]",
      "text/plain": [
       "<Figure size 432x288 with 1 Axes>"
      ]
     },
     "metadata": {
      "needs_background": "light"
     },
     "output_type": "display_data"
    },
    {
     "name": "stdout",
     "output_type": "stream",
     "text": [
      "p = 3.73493e-26\n",
      "The null hypothesis can be rejected. No normal.\n",
      "5.012675109931727e-63\n",
      "2.90541603270458e-107\n",
      "1.1089701749160533e-123\n",
      "3.911237592349532e-18\n",
      "7.382302703376121e-26\n",
      "7.240052605551493e-34\n",
      "1.466334355237101e-37\n",
      "7.588191998235935e-99\n"
     ]
    }
   ],
   "source": [
    "infile = '/home/laura/Desktop/random_runs/PET_AD_PPI_REWIRED_runs.csv'\n",
    "\n",
    "data = pd.read_csv(infile, index_col='random')\n",
    "\n",
    "pval1, pval2, pval3, pval11, pval22, pval33, pval_ms, pval_mn = compute_pvalues(ad_ppi_pet, mean_ad_ppi_pet, data)\n",
    "\n",
    "print(pval1)\n",
    "print(pval2)\n",
    "print(pval3)\n",
    "print(pval11)\n",
    "print(pval22)\n",
    "print(pval33)\n",
    "\n",
    "print(pval_ms)\n",
    "print(pval_mn)"
   ]
  },
  {
   "cell_type": "code",
   "execution_count": 68,
   "id": "72f8b0fe",
   "metadata": {},
   "outputs": [
    {
     "data": {
      "image/png": "[encoded data removed]",
      "text/plain": [
       "<Figure size 432x288 with 1 Axes>"
      ]
     },
     "metadata": {
      "needs_background": "light"
     },
     "output_type": "display_data"
    },
    {
     "name": "stdout",
     "output_type": "stream",
     "text": [
      "p = 0.0465924\n",
      "The null hypothesis cannot be rejected. Sí normal.\n",
      "3.9766705572547284e-131\n",
      "2.7761962226300847e-49\n",
      "1.4492536079728665e-140\n",
      "7.061478531318817e-32\n",
      "3.28601000732073e-13\n",
      "7.672892524736404e-35\n",
      "2.002476993011911e-33\n",
      "1.063741862869336e-96\n"
     ]
    }
   ],
   "source": [
    "infile = '/home/laura/Desktop/random_runs/PET_ND_PPI_REWIRED_runs.csv'\n",
    "\n",
    "data = pd.read_csv(infile, index_col='random')\n",
    "\n",
    "pval1, pval2, pval3, pval11, pval22, pval33, pval_ms, pval_mn = compute_pvalues(nd_ppi_pet, mean_nd_ppi_pet, data)\n",
    "\n",
    "print(pval1)\n",
    "print(pval2)\n",
    "print(pval3)\n",
    "print(pval11)\n",
    "print(pval22)\n",
    "print(pval33)\n",
    "\n",
    "print(pval_ms)\n",
    "print(pval_mn)"
   ]
  },
  {
   "cell_type": "code",
   "execution_count": 69,
   "id": "e8d17b27",
   "metadata": {},
   "outputs": [
    {
     "data": {
      "image/png": "[encoded data removed]",
      "text/plain": [
       "<Figure size 432x288 with 1 Axes>"
      ]
     },
     "metadata": {
      "needs_background": "light"
     },
     "output_type": "display_data"
    },
    {
     "name": "stdout",
     "output_type": "stream",
     "text": [
      "p = 4.91716e-05\n",
      "The null hypothesis can be rejected. No normal.\n",
      "8.895620173481434e-09\n",
      "7.399983183972746e-49\n",
      "2.1261558577868845e-33\n",
      "0.004689496786944755\n",
      "7.297798021924094e-18\n",
      "0.0002360224491175857\n",
      "0.00488593413834729\n",
      "0.0001126916251447925\n"
     ]
    }
   ],
   "source": [
    "infile = '/home/laura/Desktop/random_runs/PETandDX_AD_PPI_REWIRED_runs.csv'\n",
    "\n",
    "data = pd.read_csv(infile, index_col='random')\n",
    "\n",
    "pval1, pval2, pval3, pval11, pval22, pval33, pval_ms, pval_mn = compute_pvalues(ad_ppi_petdx, mean_ad_ppi_petdx, data)\n",
    "\n",
    "print(pval1)\n",
    "print(pval2)\n",
    "print(pval3)\n",
    "print(pval11)\n",
    "print(pval22)\n",
    "print(pval33)\n",
    "print(pval_ms)\n",
    "print(pval_mn)"
   ]
  },
  {
   "cell_type": "code",
   "execution_count": 70,
   "id": "45ca6b76",
   "metadata": {},
   "outputs": [
    {
     "data": {
      "image/png": "[encoded data removed]",
      "text/plain": [
       "<Figure size 432x288 with 1 Axes>"
      ]
     },
     "metadata": {
      "needs_background": "light"
     },
     "output_type": "display_data"
    },
    {
     "name": "stdout",
     "output_type": "stream",
     "text": [
      "p = 0.0116517\n",
      "The null hypothesis cannot be rejected. Sí normal.\n",
      "2.6008101036153642e-76\n",
      "4.157936684795457e-123\n",
      "0.9999999999883081\n",
      "1.397965011082168e-18\n",
      "8.585286182718732e-30\n",
      "0.9999560197909642\n",
      "0.5235571326848358\n",
      "0.5386011210973847\n"
     ]
    }
   ],
   "source": [
    "infile = '/home/laura/Desktop/random_runs/PETandDX_ND_PPI_REWIRED_runs.csv'\n",
    "\n",
    "data = pd.read_csv(infile, index_col='random')\n",
    "\n",
    "pval1, pval2, pval3, pval11, pval22, pval33, pval_ms, pval_mn = compute_pvalues(nd_ppi_petdx, mean_nd_ppi_petdx, data)\n",
    "\n",
    "print(pval1)\n",
    "print(pval2)\n",
    "print(pval3)\n",
    "print(pval11)\n",
    "print(pval22)\n",
    "print(pval33)\n",
    "print(pval_ms)\n",
    "print(pval_mn)"
   ]
  }
 ],
 "metadata": {
  "interpreter": {
   "hash": "66aa8a52186b72b252f72b6e4552bf9f565b016e4a1eb11651806c6ee13e2f8f"
  },
  "kernelspec": {
   "display_name": "Python 3",
   "language": "python",
   "name": "python3"
  },
  "language_info": {
   "codemirror_mode": {
    "name": "ipython",
    "version": 3
   },
   "file_extension": ".py",
   "mimetype": "text/x-python",
   "name": "python",
   "nbconvert_exporter": "python",
   "pygments_lexer": "ipython3",
   "version": "3.7.10"
  }
 },
 "nbformat": 4,
 "nbformat_minor": 5
}
